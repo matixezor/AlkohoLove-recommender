{
 "cells": [
  {
   "cell_type": "code",
   "execution_count": 1,
   "metadata": {
    "collapsed": true
   },
   "outputs": [],
   "source": [
    "import os\n",
    "import numpy as np\n",
    "import pandas as pd\n",
    "\n",
    "from dotenv import load_dotenv\n",
    "from IPython.display import display\n",
    "\n",
    "load_dotenv()\n",
    "\n",
    "DB_URL = os.getenv('DB_URL')\n",
    "\n",
    "pd.set_option('display.max_columns', 50)"
   ]
  },
  {
   "cell_type": "code",
   "execution_count": 2,
   "outputs": [],
   "source": [
    "from pymongo import MongoClient\n",
    "\n",
    "client = MongoClient(DB_URL)\n",
    "db = client['alkoholove']"
   ],
   "metadata": {
    "collapsed": false,
    "pycharm": {
     "name": "#%%\n"
    }
   }
  },
  {
   "cell_type": "code",
   "execution_count": 3,
   "outputs": [
    {
     "data": {
      "text/plain": "                    item_id                                 name    kind  \\\n0  62aa2b37e33ccae4961a4daa                         Jägermeister  likier   \n1  62ab28e88a757f60cc3f31db            Biały Bocian Słony Karmel  likier   \n2  62ab2a32fd2e7fbd58da41d9                 Biały Bocian Advocat  likier   \n3  62ab611c4a2fcedd4ce86a79             James cook white oversea     rum   \n4  62ab638288a7811f65839221                 Krupnik Słony Karmel  likier   \n5  62ab661388a7811f65839222           Havana Club Anejo Especial     rum   \n6  62ab681f88a7811f65839223     Sheridans Coffee Layered Liqueur  likier   \n7  62ab6afe4a2fcedd4ce86a7a  Captain Morgan Original Spiced Gold     rum   \n8  62ab6cb588a7811f65839224             Captain Morgan White Rum     rum   \n9  62ab6eca88a7811f65839225                     She Słony Karmel  likier   \n\n       type  alcohol_by_volume           color  \\\n0   Ziołowy               35.0          ciemny   \n1   mleczny               16.0       karmelowy   \n2  jajeczny               16.0           żółty   \n3     biały               37.5           biały   \n4   mleczny               16.0       karmelowy   \n5     złoty               37.5           złoty   \n6    kawowy               15.5  czarny i biały   \n7     złoty               35.0     bursztynowy   \n8     biały               35.0           biały   \n9   mleczny               17.0       karmelowy   \n\n                       manufacturer   country         region  \n0              Mast-Jägermeister SE    Niemcy            NaN  \n1                            Polmos    Polska  Bielsko-Biała  \n2                            Polmos    Polska  Bielsko-Biała  \n3  Eckerts Wacholder Brennerei GmbH    Niemcy            NaN  \n4                          Sobieski    Polska            NaN  \n5                       Havana Club      Kuba            NaN  \n6            Thomas Sheridan & Sons  Irlandia         Dublin  \n7                        Diageo PLC    Anglia         Londyn  \n8                        Diageo PLC    Anglia         Londyn  \n9                          BZK Alco    Polska            NaN  ",
      "text/html": "<div>\n<style scoped>\n    .dataframe tbody tr th:only-of-type {\n        vertical-align: middle;\n    }\n\n    .dataframe tbody tr th {\n        vertical-align: top;\n    }\n\n    .dataframe thead th {\n        text-align: right;\n    }\n</style>\n<table border=\"1\" class=\"dataframe\">\n  <thead>\n    <tr style=\"text-align: right;\">\n      <th></th>\n      <th>item_id</th>\n      <th>name</th>\n      <th>kind</th>\n      <th>type</th>\n      <th>alcohol_by_volume</th>\n      <th>color</th>\n      <th>manufacturer</th>\n      <th>country</th>\n      <th>region</th>\n    </tr>\n  </thead>\n  <tbody>\n    <tr>\n      <th>0</th>\n      <td>62aa2b37e33ccae4961a4daa</td>\n      <td>Jägermeister</td>\n      <td>likier</td>\n      <td>Ziołowy</td>\n      <td>35.0</td>\n      <td>ciemny</td>\n      <td>Mast-Jägermeister SE</td>\n      <td>Niemcy</td>\n      <td>NaN</td>\n    </tr>\n    <tr>\n      <th>1</th>\n      <td>62ab28e88a757f60cc3f31db</td>\n      <td>Biały Bocian Słony Karmel</td>\n      <td>likier</td>\n      <td>mleczny</td>\n      <td>16.0</td>\n      <td>karmelowy</td>\n      <td>Polmos</td>\n      <td>Polska</td>\n      <td>Bielsko-Biała</td>\n    </tr>\n    <tr>\n      <th>2</th>\n      <td>62ab2a32fd2e7fbd58da41d9</td>\n      <td>Biały Bocian Advocat</td>\n      <td>likier</td>\n      <td>jajeczny</td>\n      <td>16.0</td>\n      <td>żółty</td>\n      <td>Polmos</td>\n      <td>Polska</td>\n      <td>Bielsko-Biała</td>\n    </tr>\n    <tr>\n      <th>3</th>\n      <td>62ab611c4a2fcedd4ce86a79</td>\n      <td>James cook white oversea</td>\n      <td>rum</td>\n      <td>biały</td>\n      <td>37.5</td>\n      <td>biały</td>\n      <td>Eckerts Wacholder Brennerei GmbH</td>\n      <td>Niemcy</td>\n      <td>NaN</td>\n    </tr>\n    <tr>\n      <th>4</th>\n      <td>62ab638288a7811f65839221</td>\n      <td>Krupnik Słony Karmel</td>\n      <td>likier</td>\n      <td>mleczny</td>\n      <td>16.0</td>\n      <td>karmelowy</td>\n      <td>Sobieski</td>\n      <td>Polska</td>\n      <td>NaN</td>\n    </tr>\n    <tr>\n      <th>5</th>\n      <td>62ab661388a7811f65839222</td>\n      <td>Havana Club Anejo Especial</td>\n      <td>rum</td>\n      <td>złoty</td>\n      <td>37.5</td>\n      <td>złoty</td>\n      <td>Havana Club</td>\n      <td>Kuba</td>\n      <td>NaN</td>\n    </tr>\n    <tr>\n      <th>6</th>\n      <td>62ab681f88a7811f65839223</td>\n      <td>Sheridans Coffee Layered Liqueur</td>\n      <td>likier</td>\n      <td>kawowy</td>\n      <td>15.5</td>\n      <td>czarny i biały</td>\n      <td>Thomas Sheridan &amp; Sons</td>\n      <td>Irlandia</td>\n      <td>Dublin</td>\n    </tr>\n    <tr>\n      <th>7</th>\n      <td>62ab6afe4a2fcedd4ce86a7a</td>\n      <td>Captain Morgan Original Spiced Gold</td>\n      <td>rum</td>\n      <td>złoty</td>\n      <td>35.0</td>\n      <td>bursztynowy</td>\n      <td>Diageo PLC</td>\n      <td>Anglia</td>\n      <td>Londyn</td>\n    </tr>\n    <tr>\n      <th>8</th>\n      <td>62ab6cb588a7811f65839224</td>\n      <td>Captain Morgan White Rum</td>\n      <td>rum</td>\n      <td>biały</td>\n      <td>35.0</td>\n      <td>biały</td>\n      <td>Diageo PLC</td>\n      <td>Anglia</td>\n      <td>Londyn</td>\n    </tr>\n    <tr>\n      <th>9</th>\n      <td>62ab6eca88a7811f65839225</td>\n      <td>She Słony Karmel</td>\n      <td>likier</td>\n      <td>mleczny</td>\n      <td>17.0</td>\n      <td>karmelowy</td>\n      <td>BZK Alco</td>\n      <td>Polska</td>\n      <td>NaN</td>\n    </tr>\n  </tbody>\n</table>\n</div>"
     },
     "metadata": {},
     "output_type": "display_data"
    }
   ],
   "source": [
    "ALCOHOL_COLUMNS = ['_id', 'name', 'kind', 'type', 'alcohol_by_volume', 'color', 'manufacturer', 'country', 'region']\n",
    "\n",
    "alcohols_collection = db['alcohols']\n",
    "items_df = pd.DataFrame(\n",
    "    list(alcohols_collection.find({}, {field_name: 1 for field_name in ALCOHOL_COLUMNS}))\n",
    ").rename(columns={'_id': 'item_id'})\n",
    "\n",
    "items_df['item_id'] = items_df['item_id'].apply(lambda x: str(x))\n",
    "items_df.replace(r'^\\s*$', np.nan, regex=True, inplace=True)\n",
    "\n",
    "display(items_df.head(10))"
   ],
   "metadata": {
    "collapsed": false,
    "pycharm": {
     "name": "#%%\n"
    }
   }
  },
  {
   "cell_type": "code",
   "execution_count": 4,
   "outputs": [
    {
     "data": {
      "text/plain": "                    user_id                   item_id  rating\n0  6288e2fdd5ab6070dde8db8c  6288e32dd5ab6070dde8db8a       5\n1  629f5bee10456c7cbc3af712  62b4c0265aff740017de687a       3\n2  629f5bee10456c7cbc3af712  62b5871901bc976edbd13a94       3\n3  62ab1fb3fd2e7fbd58da41d3  62ab7d6b88a7811f6583922b       5\n4  62ab1fb3fd2e7fbd58da41d3  62b4391cd7995d801996d75f       4\n5  62acd4d9ba0c8633231112d9  62fa9edb2eb13eb1b8afd64c       4\n6  62aed4f0d20cdefa840bac0b  62b4a1805aff740017de6866       5\n7  62acd4d9ba0c8633231112d9  62d1bb5e0f95370144ad09e2       4\n8  62ab1b5cfd2e7fbd58da41cf  62d5b5fd20512ec9fa9a0dd6       4\n9  62ab1b5cfd2e7fbd58da41cf  62aa2b37e33ccae4961a4daa       5",
      "text/html": "<div>\n<style scoped>\n    .dataframe tbody tr th:only-of-type {\n        vertical-align: middle;\n    }\n\n    .dataframe tbody tr th {\n        vertical-align: top;\n    }\n\n    .dataframe thead th {\n        text-align: right;\n    }\n</style>\n<table border=\"1\" class=\"dataframe\">\n  <thead>\n    <tr style=\"text-align: right;\">\n      <th></th>\n      <th>user_id</th>\n      <th>item_id</th>\n      <th>rating</th>\n    </tr>\n  </thead>\n  <tbody>\n    <tr>\n      <th>0</th>\n      <td>6288e2fdd5ab6070dde8db8c</td>\n      <td>6288e32dd5ab6070dde8db8a</td>\n      <td>5</td>\n    </tr>\n    <tr>\n      <th>1</th>\n      <td>629f5bee10456c7cbc3af712</td>\n      <td>62b4c0265aff740017de687a</td>\n      <td>3</td>\n    </tr>\n    <tr>\n      <th>2</th>\n      <td>629f5bee10456c7cbc3af712</td>\n      <td>62b5871901bc976edbd13a94</td>\n      <td>3</td>\n    </tr>\n    <tr>\n      <th>3</th>\n      <td>62ab1fb3fd2e7fbd58da41d3</td>\n      <td>62ab7d6b88a7811f6583922b</td>\n      <td>5</td>\n    </tr>\n    <tr>\n      <th>4</th>\n      <td>62ab1fb3fd2e7fbd58da41d3</td>\n      <td>62b4391cd7995d801996d75f</td>\n      <td>4</td>\n    </tr>\n    <tr>\n      <th>5</th>\n      <td>62acd4d9ba0c8633231112d9</td>\n      <td>62fa9edb2eb13eb1b8afd64c</td>\n      <td>4</td>\n    </tr>\n    <tr>\n      <th>6</th>\n      <td>62aed4f0d20cdefa840bac0b</td>\n      <td>62b4a1805aff740017de6866</td>\n      <td>5</td>\n    </tr>\n    <tr>\n      <th>7</th>\n      <td>62acd4d9ba0c8633231112d9</td>\n      <td>62d1bb5e0f95370144ad09e2</td>\n      <td>4</td>\n    </tr>\n    <tr>\n      <th>8</th>\n      <td>62ab1b5cfd2e7fbd58da41cf</td>\n      <td>62d5b5fd20512ec9fa9a0dd6</td>\n      <td>4</td>\n    </tr>\n    <tr>\n      <th>9</th>\n      <td>62ab1b5cfd2e7fbd58da41cf</td>\n      <td>62aa2b37e33ccae4961a4daa</td>\n      <td>5</td>\n    </tr>\n  </tbody>\n</table>\n</div>"
     },
     "metadata": {},
     "output_type": "display_data"
    }
   ],
   "source": [
    "reviews_collection = db['reviews']\n",
    "\n",
    "reviews_df = pd.DataFrame(\n",
    "    list(reviews_collection.find({}, {'_id': 0, 'user_id': 1, 'alcohol_id': 1, 'rating': 1}))\n",
    ").rename(columns={'alcohol_id': 'item_id'})\n",
    "display(reviews_df.head(10))\n",
    "\n",
    "\n",
    "# free memory and close db connection\n",
    "# del reviews_collection, favourites_collection, wishlist_collection, user_search_collection, user_search\n",
    "db.client.close()"
   ],
   "metadata": {
    "collapsed": false,
    "pycharm": {
     "name": "#%%\n"
    }
   }
  },
  {
   "cell_type": "code",
   "execution_count": 8,
   "outputs": [
    {
     "data": {
      "text/plain": "                     user_id                   item_id  rating\n0   6288e2fdd5ab6070dde8db8c  6288e32dd5ab6070dde8db8a       5\n1   629f5bee10456c7cbc3af712  62b4c0265aff740017de687a       3\n2   629f5bee10456c7cbc3af712  62b5871901bc976edbd13a94       3\n3   62ab1fb3fd2e7fbd58da41d3  62ab7d6b88a7811f6583922b       5\n4   62ab1fb3fd2e7fbd58da41d3  62b4391cd7995d801996d75f       4\n5   62acd4d9ba0c8633231112d9  62fa9edb2eb13eb1b8afd64c       4\n6   62aed4f0d20cdefa840bac0b  62b4a1805aff740017de6866       5\n7   62acd4d9ba0c8633231112d9  62d1bb5e0f95370144ad09e2       4\n8   62ab1b5cfd2e7fbd58da41cf  62d5b5fd20512ec9fa9a0dd6       4\n9   62ab1b5cfd2e7fbd58da41cf  62aa2b37e33ccae4961a4daa       5\n10  62ab1b5cfd2e7fbd58da41cf  62ac5091dd8b1786279d61c2       4\n11  62ab1fb3fd2e7fbd58da41d3  62ab7bed88a7811f6583922a       5\n12  62ab1fb3fd2e7fbd58da41d3  62d1d97267f2cead669cc847       3\n13  62ab1fb3fd2e7fbd58da41d3  62d85baf689adcdd136d5aaf       3\n14  62ab1fb3fd2e7fbd58da41d3  630d1a833e7eecc2a113ab43       4\n15  62ab1fb3fd2e7fbd58da41d3  62aa2b37e33ccae4961a4daa       5\n16  62ab1fb3fd2e7fbd58da41d3  62b5871901bc976edbd13a94       3\n17  62ab1fb3fd2e7fbd58da41d3  62ab638288a7811f65839221       4\n18  62ab1fb3fd2e7fbd58da41d3  62b4ba047c93cafdd7d0947e       5\n19  62acd4d9ba0c8633231112d9  62aa2b37e33ccae4961a4daa       4\n20  62acd4d9ba0c8633231112d9  62b494eb5aff740017de6858       4\n21  62ab1fb3fd2e7fbd58da41d3  62d1bb5e0f95370144ad09e2       4\n22  62ab1fb3fd2e7fbd58da41d3  631ba772000c24db49dd5b51       1\n23  629f5bee10456c7cbc3af712  6322409d86d1ba39137c5ccc       4\n24  62ab1fb3fd2e7fbd58da41d3  62f01bab19bf63dfdd05b3a9       4\n25  62ab1b5cfd2e7fbd58da41cf  630294f603edd62c61da384e       5\n26  62ab1fb3fd2e7fbd58da41d3  62d1bf360f95370144ad09e3       4\n27  62ab1fb3fd2e7fbd58da41d3  62d1c1ba67f2cead669cc83f       5\n28  62acd4d9ba0c8633231112d9  62faa54b2d44f7f385d6e900       5\n29  62acd4d9ba0c8633231112d9  62efdca590ffde236a830dc7       5\n30  62acd4d9ba0c8633231112d9  63025508c346dfe5cb641be9       3\n31  62ab1fb3fd2e7fbd58da41d3  632643221b4669bb9b1cdf00       5\n32  62acd4d9ba0c8633231112d9  62ab8a511595535727acda31       1\n33  62acd4d9ba0c8633231112d9  636c1c279e2dbf397a78556f       3\n34  62acd4d9ba0c8633231112d9  62b4ba047c93cafdd7d0947e       2\n35  62acd4d9ba0c8633231112d9  62b4c0265aff740017de687a       4\n36  62acd4d9ba0c8633231112d9  62d83faa689adcdd136d5aa9       2\n37  62acd4d9ba0c8633231112d9  62ef9987d23313e11a670d88       5\n38  62acd4d9ba0c8633231112d9  62d8515b7e5961377764ed3a       1\n39  62acd4d9ba0c8633231112d9  630294f603edd62c61da384e       1\n40  62ab1b5cfd2e7fbd58da41cf  62ad948d6c6632251e9aae41       2\n41  62ab1b5cfd2e7fbd58da41cf  62b57240973d6c6264867892       2\n42  62ab1b5cfd2e7fbd58da41cf  62b4c0265aff740017de687a       1\n43  62ab1b5cfd2e7fbd58da41cf  62b491167c93cafdd7d0944d       2\n44  62ab1b5cfd2e7fbd58da41cf  62d1c4ec67f2cead669cc842       4\n45  62ab1b5cfd2e7fbd58da41cf  62f823f984a2958a59ebfcf0       4\n46  62ab1b5cfd2e7fbd58da41cf  62e691f11f84da870bcaae01       3\n47  62ab1b5cfd2e7fbd58da41cf  62d8515b7e5961377764ed3a       1\n48  62ab1b5cfd2e7fbd58da41cf  62b4ba047c93cafdd7d0947e       2\n49  62ab1b5cfd2e7fbd58da41cf  636576df0142f7420f3cc7a3       4\n50  62ab1b5cfd2e7fbd58da41cf  636577e40142f7420f3cc7a5       5\n51  636fdba2a5b4d04098e84d80  6328e047f840cb9bd8185148       5\n52  636fee408180309af68dc8ec  62efdca590ffde236a830dc7       4",
      "text/html": "<div>\n<style scoped>\n    .dataframe tbody tr th:only-of-type {\n        vertical-align: middle;\n    }\n\n    .dataframe tbody tr th {\n        vertical-align: top;\n    }\n\n    .dataframe thead th {\n        text-align: right;\n    }\n</style>\n<table border=\"1\" class=\"dataframe\">\n  <thead>\n    <tr style=\"text-align: right;\">\n      <th></th>\n      <th>user_id</th>\n      <th>item_id</th>\n      <th>rating</th>\n    </tr>\n  </thead>\n  <tbody>\n    <tr>\n      <th>0</th>\n      <td>6288e2fdd5ab6070dde8db8c</td>\n      <td>6288e32dd5ab6070dde8db8a</td>\n      <td>5</td>\n    </tr>\n    <tr>\n      <th>1</th>\n      <td>629f5bee10456c7cbc3af712</td>\n      <td>62b4c0265aff740017de687a</td>\n      <td>3</td>\n    </tr>\n    <tr>\n      <th>2</th>\n      <td>629f5bee10456c7cbc3af712</td>\n      <td>62b5871901bc976edbd13a94</td>\n      <td>3</td>\n    </tr>\n    <tr>\n      <th>3</th>\n      <td>62ab1fb3fd2e7fbd58da41d3</td>\n      <td>62ab7d6b88a7811f6583922b</td>\n      <td>5</td>\n    </tr>\n    <tr>\n      <th>4</th>\n      <td>62ab1fb3fd2e7fbd58da41d3</td>\n      <td>62b4391cd7995d801996d75f</td>\n      <td>4</td>\n    </tr>\n    <tr>\n      <th>5</th>\n      <td>62acd4d9ba0c8633231112d9</td>\n      <td>62fa9edb2eb13eb1b8afd64c</td>\n      <td>4</td>\n    </tr>\n    <tr>\n      <th>6</th>\n      <td>62aed4f0d20cdefa840bac0b</td>\n      <td>62b4a1805aff740017de6866</td>\n      <td>5</td>\n    </tr>\n    <tr>\n      <th>7</th>\n      <td>62acd4d9ba0c8633231112d9</td>\n      <td>62d1bb5e0f95370144ad09e2</td>\n      <td>4</td>\n    </tr>\n    <tr>\n      <th>8</th>\n      <td>62ab1b5cfd2e7fbd58da41cf</td>\n      <td>62d5b5fd20512ec9fa9a0dd6</td>\n      <td>4</td>\n    </tr>\n    <tr>\n      <th>9</th>\n      <td>62ab1b5cfd2e7fbd58da41cf</td>\n      <td>62aa2b37e33ccae4961a4daa</td>\n      <td>5</td>\n    </tr>\n    <tr>\n      <th>10</th>\n      <td>62ab1b5cfd2e7fbd58da41cf</td>\n      <td>62ac5091dd8b1786279d61c2</td>\n      <td>4</td>\n    </tr>\n    <tr>\n      <th>11</th>\n      <td>62ab1fb3fd2e7fbd58da41d3</td>\n      <td>62ab7bed88a7811f6583922a</td>\n      <td>5</td>\n    </tr>\n    <tr>\n      <th>12</th>\n      <td>62ab1fb3fd2e7fbd58da41d3</td>\n      <td>62d1d97267f2cead669cc847</td>\n      <td>3</td>\n    </tr>\n    <tr>\n      <th>13</th>\n      <td>62ab1fb3fd2e7fbd58da41d3</td>\n      <td>62d85baf689adcdd136d5aaf</td>\n      <td>3</td>\n    </tr>\n    <tr>\n      <th>14</th>\n      <td>62ab1fb3fd2e7fbd58da41d3</td>\n      <td>630d1a833e7eecc2a113ab43</td>\n      <td>4</td>\n    </tr>\n    <tr>\n      <th>15</th>\n      <td>62ab1fb3fd2e7fbd58da41d3</td>\n      <td>62aa2b37e33ccae4961a4daa</td>\n      <td>5</td>\n    </tr>\n    <tr>\n      <th>16</th>\n      <td>62ab1fb3fd2e7fbd58da41d3</td>\n      <td>62b5871901bc976edbd13a94</td>\n      <td>3</td>\n    </tr>\n    <tr>\n      <th>17</th>\n      <td>62ab1fb3fd2e7fbd58da41d3</td>\n      <td>62ab638288a7811f65839221</td>\n      <td>4</td>\n    </tr>\n    <tr>\n      <th>18</th>\n      <td>62ab1fb3fd2e7fbd58da41d3</td>\n      <td>62b4ba047c93cafdd7d0947e</td>\n      <td>5</td>\n    </tr>\n    <tr>\n      <th>19</th>\n      <td>62acd4d9ba0c8633231112d9</td>\n      <td>62aa2b37e33ccae4961a4daa</td>\n      <td>4</td>\n    </tr>\n    <tr>\n      <th>20</th>\n      <td>62acd4d9ba0c8633231112d9</td>\n      <td>62b494eb5aff740017de6858</td>\n      <td>4</td>\n    </tr>\n    <tr>\n      <th>21</th>\n      <td>62ab1fb3fd2e7fbd58da41d3</td>\n      <td>62d1bb5e0f95370144ad09e2</td>\n      <td>4</td>\n    </tr>\n    <tr>\n      <th>22</th>\n      <td>62ab1fb3fd2e7fbd58da41d3</td>\n      <td>631ba772000c24db49dd5b51</td>\n      <td>1</td>\n    </tr>\n    <tr>\n      <th>23</th>\n      <td>629f5bee10456c7cbc3af712</td>\n      <td>6322409d86d1ba39137c5ccc</td>\n      <td>4</td>\n    </tr>\n    <tr>\n      <th>24</th>\n      <td>62ab1fb3fd2e7fbd58da41d3</td>\n      <td>62f01bab19bf63dfdd05b3a9</td>\n      <td>4</td>\n    </tr>\n    <tr>\n      <th>25</th>\n      <td>62ab1b5cfd2e7fbd58da41cf</td>\n      <td>630294f603edd62c61da384e</td>\n      <td>5</td>\n    </tr>\n    <tr>\n      <th>26</th>\n      <td>62ab1fb3fd2e7fbd58da41d3</td>\n      <td>62d1bf360f95370144ad09e3</td>\n      <td>4</td>\n    </tr>\n    <tr>\n      <th>27</th>\n      <td>62ab1fb3fd2e7fbd58da41d3</td>\n      <td>62d1c1ba67f2cead669cc83f</td>\n      <td>5</td>\n    </tr>\n    <tr>\n      <th>28</th>\n      <td>62acd4d9ba0c8633231112d9</td>\n      <td>62faa54b2d44f7f385d6e900</td>\n      <td>5</td>\n    </tr>\n    <tr>\n      <th>29</th>\n      <td>62acd4d9ba0c8633231112d9</td>\n      <td>62efdca590ffde236a830dc7</td>\n      <td>5</td>\n    </tr>\n    <tr>\n      <th>30</th>\n      <td>62acd4d9ba0c8633231112d9</td>\n      <td>63025508c346dfe5cb641be9</td>\n      <td>3</td>\n    </tr>\n    <tr>\n      <th>31</th>\n      <td>62ab1fb3fd2e7fbd58da41d3</td>\n      <td>632643221b4669bb9b1cdf00</td>\n      <td>5</td>\n    </tr>\n    <tr>\n      <th>32</th>\n      <td>62acd4d9ba0c8633231112d9</td>\n      <td>62ab8a511595535727acda31</td>\n      <td>1</td>\n    </tr>\n    <tr>\n      <th>33</th>\n      <td>62acd4d9ba0c8633231112d9</td>\n      <td>636c1c279e2dbf397a78556f</td>\n      <td>3</td>\n    </tr>\n    <tr>\n      <th>34</th>\n      <td>62acd4d9ba0c8633231112d9</td>\n      <td>62b4ba047c93cafdd7d0947e</td>\n      <td>2</td>\n    </tr>\n    <tr>\n      <th>35</th>\n      <td>62acd4d9ba0c8633231112d9</td>\n      <td>62b4c0265aff740017de687a</td>\n      <td>4</td>\n    </tr>\n    <tr>\n      <th>36</th>\n      <td>62acd4d9ba0c8633231112d9</td>\n      <td>62d83faa689adcdd136d5aa9</td>\n      <td>2</td>\n    </tr>\n    <tr>\n      <th>37</th>\n      <td>62acd4d9ba0c8633231112d9</td>\n      <td>62ef9987d23313e11a670d88</td>\n      <td>5</td>\n    </tr>\n    <tr>\n      <th>38</th>\n      <td>62acd4d9ba0c8633231112d9</td>\n      <td>62d8515b7e5961377764ed3a</td>\n      <td>1</td>\n    </tr>\n    <tr>\n      <th>39</th>\n      <td>62acd4d9ba0c8633231112d9</td>\n      <td>630294f603edd62c61da384e</td>\n      <td>1</td>\n    </tr>\n    <tr>\n      <th>40</th>\n      <td>62ab1b5cfd2e7fbd58da41cf</td>\n      <td>62ad948d6c6632251e9aae41</td>\n      <td>2</td>\n    </tr>\n    <tr>\n      <th>41</th>\n      <td>62ab1b5cfd2e7fbd58da41cf</td>\n      <td>62b57240973d6c6264867892</td>\n      <td>2</td>\n    </tr>\n    <tr>\n      <th>42</th>\n      <td>62ab1b5cfd2e7fbd58da41cf</td>\n      <td>62b4c0265aff740017de687a</td>\n      <td>1</td>\n    </tr>\n    <tr>\n      <th>43</th>\n      <td>62ab1b5cfd2e7fbd58da41cf</td>\n      <td>62b491167c93cafdd7d0944d</td>\n      <td>2</td>\n    </tr>\n    <tr>\n      <th>44</th>\n      <td>62ab1b5cfd2e7fbd58da41cf</td>\n      <td>62d1c4ec67f2cead669cc842</td>\n      <td>4</td>\n    </tr>\n    <tr>\n      <th>45</th>\n      <td>62ab1b5cfd2e7fbd58da41cf</td>\n      <td>62f823f984a2958a59ebfcf0</td>\n      <td>4</td>\n    </tr>\n    <tr>\n      <th>46</th>\n      <td>62ab1b5cfd2e7fbd58da41cf</td>\n      <td>62e691f11f84da870bcaae01</td>\n      <td>3</td>\n    </tr>\n    <tr>\n      <th>47</th>\n      <td>62ab1b5cfd2e7fbd58da41cf</td>\n      <td>62d8515b7e5961377764ed3a</td>\n      <td>1</td>\n    </tr>\n    <tr>\n      <th>48</th>\n      <td>62ab1b5cfd2e7fbd58da41cf</td>\n      <td>62b4ba047c93cafdd7d0947e</td>\n      <td>2</td>\n    </tr>\n    <tr>\n      <th>49</th>\n      <td>62ab1b5cfd2e7fbd58da41cf</td>\n      <td>636576df0142f7420f3cc7a3</td>\n      <td>4</td>\n    </tr>\n    <tr>\n      <th>50</th>\n      <td>62ab1b5cfd2e7fbd58da41cf</td>\n      <td>636577e40142f7420f3cc7a5</td>\n      <td>5</td>\n    </tr>\n    <tr>\n      <th>51</th>\n      <td>636fdba2a5b4d04098e84d80</td>\n      <td>6328e047f840cb9bd8185148</td>\n      <td>5</td>\n    </tr>\n    <tr>\n      <th>52</th>\n      <td>636fee408180309af68dc8ec</td>\n      <td>62efdca590ffde236a830dc7</td>\n      <td>4</td>\n    </tr>\n  </tbody>\n</table>\n</div>"
     },
     "metadata": {},
     "output_type": "display_data"
    },
    {
     "name": "stdout",
     "output_type": "stream",
     "text": [
      "1.3073778370748912\n",
      "{'n_epochs': 5, 'lr_all': 0.002, 'reg_all': 0.6}\n"
     ]
    }
   ],
   "source": [
    "from surprise import Reader, Dataset, SVD\n",
    "from surprise.model_selection import cross_validate, GridSearchCV\n",
    "\n",
    "reader = Reader(rating_scale=(1.0, 5.0))\n",
    "\n",
    "reviews_df['user_id'] = reviews_df['user_id'].apply(lambda x: str(x))\n",
    "reviews_df['item_id'] = reviews_df['item_id'].apply(lambda x: str(x))\n",
    "data = Dataset.load_from_df(reviews_df[['user_id', 'item_id', 'rating']], reader)\n",
    "display(reviews_df)\n",
    "# data.split(n_folds=5)\n",
    "\n",
    "# svd\n",
    "param_grid = {\"n_epochs\": [5, 10], \"lr_all\": [0.002, 0.005], \"reg_all\": [0.4, 0.6]}\n",
    "gs = GridSearchCV(SVD, param_grid, measures=[\"rmse\", \"mae\"], cv=3)\n",
    "# cross_validate(algo, data, measures=['RMSE', 'MAE'], cv=3, verbose=True)\n",
    "gs.fit(data)\n",
    "# best RMSE score\n",
    "print(gs.best_score[\"rmse\"])\n",
    "\n",
    "# combination of parameters that gave the best RMSE score\n",
    "print(gs.best_params[\"rmse\"])\n",
    "data = data.build_full_trainset()\n",
    "algo = gs.best_estimator[\"rmse\"]\n",
    "algo.fit(data)\n",
    "\n",
    "testset = data.build_anti_testset()\n",
    "predictions = algo.test(testset)"
   ],
   "metadata": {
    "collapsed": false,
    "pycharm": {
     "name": "#%%\n"
    }
   }
  },
  {
   "cell_type": "code",
   "execution_count": 9,
   "outputs": [
    {
     "name": "stdout",
     "output_type": "stream",
     "text": [
      "[\"ObjectId('62b494eb5aff740017de6858')\", \"ObjectId('62b4391cd7995d801996d75f')\", \"ObjectId('62d1bf360f95370144ad09e3')\", \"ObjectId('636577e40142f7420f3cc7a5')\", \"ObjectId('62efdca590ffde236a830dc7')\"]\n"
     ]
    }
   ],
   "source": [
    "from collections import defaultdict\n",
    "\n",
    "# First map the predictions to each user.\n",
    "top_n = defaultdict(list)\n",
    "for uid, iid, true_r, est, _ in predictions:\n",
    "    top_n[uid].append((iid, est))\n",
    "\n",
    "    # Then sort the predictions for each user and retrieve the k highest ones.\n",
    "for uid, user_ratings in top_n.items():\n",
    "    user_ratings.sort(key=lambda x: x[1], reverse=True)\n",
    "    top_n[uid] = user_ratings[:5]\n",
    "\n",
    "print([f\"ObjectId('{top[0]}')\" for top in top_n['62aed4f0d20cdefa840bac0b']])"
   ],
   "metadata": {
    "collapsed": false,
    "pycharm": {
     "name": "#%%\n"
    }
   }
  },
  {
   "cell_type": "code",
   "execution_count": 10,
   "outputs": [],
   "source": [
    "# tutaj zapisać model jako np. pickle\n",
    "# powyżej są predykcje"
   ],
   "metadata": {
    "collapsed": false,
    "pycharm": {
     "name": "#%%\n"
    }
   }
  }
 ],
 "metadata": {
  "kernelspec": {
   "display_name": "Python 3",
   "language": "python",
   "name": "python3"
  },
  "language_info": {
   "codemirror_mode": {
    "name": "ipython",
    "version": 2
   },
   "file_extension": ".py",
   "mimetype": "text/x-python",
   "name": "python",
   "nbconvert_exporter": "python",
   "pygments_lexer": "ipython2",
   "version": "2.7.6"
  }
 },
 "nbformat": 4,
 "nbformat_minor": 0
}