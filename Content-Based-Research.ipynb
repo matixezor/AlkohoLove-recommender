{
 "cells": [
  {
   "cell_type": "code",
   "execution_count": 204,
   "id": "e9744069",
   "metadata": {},
   "outputs": [],
   "source": [
    "import numpy as np\n",
    "import pandas as pd\n",
    "from IPython.display import display\n",
    "import time\n",
    "import os\n",
    "from dotenv import load_dotenv\n",
    "from evaluation_and_testing_helpers.testing import evaluate_train_test_split_explicit\n",
    "from evaluation_and_testing_helpers.testing import evaluate_leave_one_out_explicit\n",
    "\n",
    "load_dotenv()\n",
    "\n",
    "DB_URL = os.getenv('DB_URL')\n",
    "\n",
    "pd.set_option('display.max_columns', 50)"
   ]
  },
  {
   "cell_type": "markdown",
   "source": [],
   "metadata": {
    "collapsed": false,
    "pycharm": {
     "name": "#%% md\n"
    }
   }
  },
  {
   "cell_type": "code",
   "execution_count": 205,
   "outputs": [],
   "source": [
    "from pymongo import MongoClient\n",
    "\n",
    "client = MongoClient(DB_URL)\n",
    "db = client['alkoholove']"
   ],
   "metadata": {
    "collapsed": false,
    "pycharm": {
     "name": "#%%\n"
    }
   }
  },
  {
   "cell_type": "markdown",
   "source": [
    "### Load alcohol items data"
   ],
   "metadata": {
    "collapsed": false,
    "pycharm": {
     "name": "#%% md\n"
    }
   }
  },
  {
   "cell_type": "code",
   "execution_count": 206,
   "outputs": [
    {
     "data": {
      "text/plain": "                    item_id                                 name    kind  \\\n0  62aa2b37e33ccae4961a4daa                         Jägermeister  likier   \n1  62ab28e88a757f60cc3f31db            Biały Bocian Słony Karmel  likier   \n2  62ab2a32fd2e7fbd58da41d9                 Biały Bocian Advocat  likier   \n3  62ab611c4a2fcedd4ce86a79             James cook white oversea     rum   \n4  62ab638288a7811f65839221                 Krupnik Słony Karmel  likier   \n5  62ab661388a7811f65839222           Havana Club Anejo Especial     rum   \n6  62ab681f88a7811f65839223     Sheridans Coffee Layered Liqueur  likier   \n7  62ab6afe4a2fcedd4ce86a7a  Captain Morgan Original Spiced Gold     rum   \n8  62ab6cb588a7811f65839224             Captain Morgan White Rum     rum   \n9  62ab6eca88a7811f65839225                     She Słony Karmel  likier   \n\n       type  alcohol_by_volume           color  \\\n0   Ziołowy               35.0          ciemny   \n1   mleczny               16.0       karmelowy   \n2  jajeczny               16.0           żółty   \n3     biały               37.5           biały   \n4   mleczny               16.0       karmelowy   \n5     złoty               37.5           złoty   \n6    kawowy               15.5  czarny i biały   \n7     złoty               35.0     bursztynowy   \n8     biały               35.0           biały   \n9   mleczny               17.0       karmelowy   \n\n                       manufacturer   country         region  \n0              Mast-Jägermeister SE    Niemcy            NaN  \n1                            Polmos    Polska  Bielsko-Biała  \n2                            Polmos    Polska  Bielsko-Biała  \n3  Eckerts Wacholder Brennerei GmbH    Niemcy            NaN  \n4                          Sobieski    Polska            NaN  \n5                       Havana Club      Kuba            NaN  \n6            Thomas Sheridan & Sons  Irlandia         Dublin  \n7                        Diageo PLC    Anglia         Londyn  \n8                        Diageo PLC    Anglia         Londyn  \n9                          BZK Alco    Polska            NaN  ",
      "text/html": "<div>\n<style scoped>\n    .dataframe tbody tr th:only-of-type {\n        vertical-align: middle;\n    }\n\n    .dataframe tbody tr th {\n        vertical-align: top;\n    }\n\n    .dataframe thead th {\n        text-align: right;\n    }\n</style>\n<table border=\"1\" class=\"dataframe\">\n  <thead>\n    <tr style=\"text-align: right;\">\n      <th></th>\n      <th>item_id</th>\n      <th>name</th>\n      <th>kind</th>\n      <th>type</th>\n      <th>alcohol_by_volume</th>\n      <th>color</th>\n      <th>manufacturer</th>\n      <th>country</th>\n      <th>region</th>\n    </tr>\n  </thead>\n  <tbody>\n    <tr>\n      <th>0</th>\n      <td>62aa2b37e33ccae4961a4daa</td>\n      <td>Jägermeister</td>\n      <td>likier</td>\n      <td>Ziołowy</td>\n      <td>35.0</td>\n      <td>ciemny</td>\n      <td>Mast-Jägermeister SE</td>\n      <td>Niemcy</td>\n      <td>NaN</td>\n    </tr>\n    <tr>\n      <th>1</th>\n      <td>62ab28e88a757f60cc3f31db</td>\n      <td>Biały Bocian Słony Karmel</td>\n      <td>likier</td>\n      <td>mleczny</td>\n      <td>16.0</td>\n      <td>karmelowy</td>\n      <td>Polmos</td>\n      <td>Polska</td>\n      <td>Bielsko-Biała</td>\n    </tr>\n    <tr>\n      <th>2</th>\n      <td>62ab2a32fd2e7fbd58da41d9</td>\n      <td>Biały Bocian Advocat</td>\n      <td>likier</td>\n      <td>jajeczny</td>\n      <td>16.0</td>\n      <td>żółty</td>\n      <td>Polmos</td>\n      <td>Polska</td>\n      <td>Bielsko-Biała</td>\n    </tr>\n    <tr>\n      <th>3</th>\n      <td>62ab611c4a2fcedd4ce86a79</td>\n      <td>James cook white oversea</td>\n      <td>rum</td>\n      <td>biały</td>\n      <td>37.5</td>\n      <td>biały</td>\n      <td>Eckerts Wacholder Brennerei GmbH</td>\n      <td>Niemcy</td>\n      <td>NaN</td>\n    </tr>\n    <tr>\n      <th>4</th>\n      <td>62ab638288a7811f65839221</td>\n      <td>Krupnik Słony Karmel</td>\n      <td>likier</td>\n      <td>mleczny</td>\n      <td>16.0</td>\n      <td>karmelowy</td>\n      <td>Sobieski</td>\n      <td>Polska</td>\n      <td>NaN</td>\n    </tr>\n    <tr>\n      <th>5</th>\n      <td>62ab661388a7811f65839222</td>\n      <td>Havana Club Anejo Especial</td>\n      <td>rum</td>\n      <td>złoty</td>\n      <td>37.5</td>\n      <td>złoty</td>\n      <td>Havana Club</td>\n      <td>Kuba</td>\n      <td>NaN</td>\n    </tr>\n    <tr>\n      <th>6</th>\n      <td>62ab681f88a7811f65839223</td>\n      <td>Sheridans Coffee Layered Liqueur</td>\n      <td>likier</td>\n      <td>kawowy</td>\n      <td>15.5</td>\n      <td>czarny i biały</td>\n      <td>Thomas Sheridan &amp; Sons</td>\n      <td>Irlandia</td>\n      <td>Dublin</td>\n    </tr>\n    <tr>\n      <th>7</th>\n      <td>62ab6afe4a2fcedd4ce86a7a</td>\n      <td>Captain Morgan Original Spiced Gold</td>\n      <td>rum</td>\n      <td>złoty</td>\n      <td>35.0</td>\n      <td>bursztynowy</td>\n      <td>Diageo PLC</td>\n      <td>Anglia</td>\n      <td>Londyn</td>\n    </tr>\n    <tr>\n      <th>8</th>\n      <td>62ab6cb588a7811f65839224</td>\n      <td>Captain Morgan White Rum</td>\n      <td>rum</td>\n      <td>biały</td>\n      <td>35.0</td>\n      <td>biały</td>\n      <td>Diageo PLC</td>\n      <td>Anglia</td>\n      <td>Londyn</td>\n    </tr>\n    <tr>\n      <th>9</th>\n      <td>62ab6eca88a7811f65839225</td>\n      <td>She Słony Karmel</td>\n      <td>likier</td>\n      <td>mleczny</td>\n      <td>17.0</td>\n      <td>karmelowy</td>\n      <td>BZK Alco</td>\n      <td>Polska</td>\n      <td>NaN</td>\n    </tr>\n  </tbody>\n</table>\n</div>"
     },
     "metadata": {},
     "output_type": "display_data"
    }
   ],
   "source": [
    "ALCOHOL_COLUMNS = ['_id', 'name', 'kind', 'type', 'alcohol_by_volume', 'color', 'manufacturer', 'country', 'region']\n",
    "\n",
    "alcohols_collection = db['alcohols']\n",
    "items_df = pd.DataFrame(\n",
    "    list(alcohols_collection.find({}, {field_name: 1 for field_name in ALCOHOL_COLUMNS}))\n",
    ").rename(columns={'_id': 'item_id'})\n",
    "\n",
    "items_df['item_id'] = items_df['item_id'].apply(lambda x: str(x))\n",
    "items_df.replace(r'^\\s*$', np.nan, regex=True, inplace=True)\n",
    "\n",
    "display(items_df.head(10))"
   ],
   "metadata": {
    "collapsed": false,
    "pycharm": {
     "name": "#%%\n"
    }
   }
  },
  {
   "cell_type": "markdown",
   "source": [
    "### Load users data"
   ],
   "metadata": {
    "collapsed": false,
    "pycharm": {
     "name": "#%% md\n"
    }
   }
  },
  {
   "cell_type": "code",
   "execution_count": 207,
   "outputs": [
    {
     "data": {
      "text/plain": "                    user_id                   item_id  rating\n0  6288e2fdd5ab6070dde8db8c  6288e32dd5ab6070dde8db8a       5\n1  629f5bee10456c7cbc3af712  62b4c0265aff740017de687a       3\n2  629f5bee10456c7cbc3af712  62b5871901bc976edbd13a94       3\n3  62ab1fb3fd2e7fbd58da41d3  62ab7d6b88a7811f6583922b       5\n4  62ab1fb3fd2e7fbd58da41d3  62b4391cd7995d801996d75f       4\n5  62acd4d9ba0c8633231112d9  62fa9edb2eb13eb1b8afd64c       4\n6  62aed4f0d20cdefa840bac0b  62b4a1805aff740017de6866       5\n7  62acd4d9ba0c8633231112d9  62d1bb5e0f95370144ad09e2       4\n8  629f5bee10456c7cbc3af712  62b4407ddd971448a4beeaeb       3\n9  62ab1b5cfd2e7fbd58da41cf  62d5b5fd20512ec9fa9a0dd6       4",
      "text/html": "<div>\n<style scoped>\n    .dataframe tbody tr th:only-of-type {\n        vertical-align: middle;\n    }\n\n    .dataframe tbody tr th {\n        vertical-align: top;\n    }\n\n    .dataframe thead th {\n        text-align: right;\n    }\n</style>\n<table border=\"1\" class=\"dataframe\">\n  <thead>\n    <tr style=\"text-align: right;\">\n      <th></th>\n      <th>user_id</th>\n      <th>item_id</th>\n      <th>rating</th>\n    </tr>\n  </thead>\n  <tbody>\n    <tr>\n      <th>0</th>\n      <td>6288e2fdd5ab6070dde8db8c</td>\n      <td>6288e32dd5ab6070dde8db8a</td>\n      <td>5</td>\n    </tr>\n    <tr>\n      <th>1</th>\n      <td>629f5bee10456c7cbc3af712</td>\n      <td>62b4c0265aff740017de687a</td>\n      <td>3</td>\n    </tr>\n    <tr>\n      <th>2</th>\n      <td>629f5bee10456c7cbc3af712</td>\n      <td>62b5871901bc976edbd13a94</td>\n      <td>3</td>\n    </tr>\n    <tr>\n      <th>3</th>\n      <td>62ab1fb3fd2e7fbd58da41d3</td>\n      <td>62ab7d6b88a7811f6583922b</td>\n      <td>5</td>\n    </tr>\n    <tr>\n      <th>4</th>\n      <td>62ab1fb3fd2e7fbd58da41d3</td>\n      <td>62b4391cd7995d801996d75f</td>\n      <td>4</td>\n    </tr>\n    <tr>\n      <th>5</th>\n      <td>62acd4d9ba0c8633231112d9</td>\n      <td>62fa9edb2eb13eb1b8afd64c</td>\n      <td>4</td>\n    </tr>\n    <tr>\n      <th>6</th>\n      <td>62aed4f0d20cdefa840bac0b</td>\n      <td>62b4a1805aff740017de6866</td>\n      <td>5</td>\n    </tr>\n    <tr>\n      <th>7</th>\n      <td>62acd4d9ba0c8633231112d9</td>\n      <td>62d1bb5e0f95370144ad09e2</td>\n      <td>4</td>\n    </tr>\n    <tr>\n      <th>8</th>\n      <td>629f5bee10456c7cbc3af712</td>\n      <td>62b4407ddd971448a4beeaeb</td>\n      <td>3</td>\n    </tr>\n    <tr>\n      <th>9</th>\n      <td>62ab1b5cfd2e7fbd58da41cf</td>\n      <td>62d5b5fd20512ec9fa9a0dd6</td>\n      <td>4</td>\n    </tr>\n  </tbody>\n</table>\n</div>"
     },
     "metadata": {},
     "output_type": "display_data"
    },
    {
     "data": {
      "text/plain": "                    user_id                   item_id  favourite\n0  629f5bee10456c7cbc3af712  6288e32dd5ab6070dde8db8a          1\n0  629f5bee10456c7cbc3af712  62ab638288a7811f65839221          1\n0  629f5bee10456c7cbc3af712  62b4391cd7995d801996d75f          1\n0  629f5bee10456c7cbc3af712  62b4407ddd971448a4beeaeb          1\n0  629f5bee10456c7cbc3af712  6322409d86d1ba39137c5ccc          1\n1  6288e2fdd5ab6070dde8db8b  6288e32dd5ab6070dde8db8a          1\n2  62ab1b5cfd2e7fbd58da41cf  62aa2b37e33ccae4961a4daa          1\n2  62ab1b5cfd2e7fbd58da41cf  62d5b5fd20512ec9fa9a0dd6          1\n3  62ab1fb3fd2e7fbd58da41d3  62ab6afe4a2fcedd4ce86a7a          1\n3  62ab1fb3fd2e7fbd58da41d3  62ab7d6b88a7811f6583922b          1",
      "text/html": "<div>\n<style scoped>\n    .dataframe tbody tr th:only-of-type {\n        vertical-align: middle;\n    }\n\n    .dataframe tbody tr th {\n        vertical-align: top;\n    }\n\n    .dataframe thead th {\n        text-align: right;\n    }\n</style>\n<table border=\"1\" class=\"dataframe\">\n  <thead>\n    <tr style=\"text-align: right;\">\n      <th></th>\n      <th>user_id</th>\n      <th>item_id</th>\n      <th>favourite</th>\n    </tr>\n  </thead>\n  <tbody>\n    <tr>\n      <th>0</th>\n      <td>629f5bee10456c7cbc3af712</td>\n      <td>6288e32dd5ab6070dde8db8a</td>\n      <td>1</td>\n    </tr>\n    <tr>\n      <th>0</th>\n      <td>629f5bee10456c7cbc3af712</td>\n      <td>62ab638288a7811f65839221</td>\n      <td>1</td>\n    </tr>\n    <tr>\n      <th>0</th>\n      <td>629f5bee10456c7cbc3af712</td>\n      <td>62b4391cd7995d801996d75f</td>\n      <td>1</td>\n    </tr>\n    <tr>\n      <th>0</th>\n      <td>629f5bee10456c7cbc3af712</td>\n      <td>62b4407ddd971448a4beeaeb</td>\n      <td>1</td>\n    </tr>\n    <tr>\n      <th>0</th>\n      <td>629f5bee10456c7cbc3af712</td>\n      <td>6322409d86d1ba39137c5ccc</td>\n      <td>1</td>\n    </tr>\n    <tr>\n      <th>1</th>\n      <td>6288e2fdd5ab6070dde8db8b</td>\n      <td>6288e32dd5ab6070dde8db8a</td>\n      <td>1</td>\n    </tr>\n    <tr>\n      <th>2</th>\n      <td>62ab1b5cfd2e7fbd58da41cf</td>\n      <td>62aa2b37e33ccae4961a4daa</td>\n      <td>1</td>\n    </tr>\n    <tr>\n      <th>2</th>\n      <td>62ab1b5cfd2e7fbd58da41cf</td>\n      <td>62d5b5fd20512ec9fa9a0dd6</td>\n      <td>1</td>\n    </tr>\n    <tr>\n      <th>3</th>\n      <td>62ab1fb3fd2e7fbd58da41d3</td>\n      <td>62ab6afe4a2fcedd4ce86a7a</td>\n      <td>1</td>\n    </tr>\n    <tr>\n      <th>3</th>\n      <td>62ab1fb3fd2e7fbd58da41d3</td>\n      <td>62ab7d6b88a7811f6583922b</td>\n      <td>1</td>\n    </tr>\n  </tbody>\n</table>\n</div>"
     },
     "metadata": {},
     "output_type": "display_data"
    },
    {
     "data": {
      "text/plain": "                    user_id                   item_id  wishlist\n0  6288e2fdd5ab6070dde8db8b  6288e32dd5ab6070dde8db8a         1\n1  629f5bee10456c7cbc3af712  6288e32dd5ab6070dde8db8a         1\n1  629f5bee10456c7cbc3af712  62ab28e88a757f60cc3f31db         1\n1  629f5bee10456c7cbc3af712  62dd9a8a5ef6265fb6823107         1\n1  629f5bee10456c7cbc3af712  62b4391cd7995d801996d75f         1\n2  6288e2fdd5ab6070dde8db8c  6288e32dd5ab6070dde8db8a         1\n3  62ab1b5cfd2e7fbd58da41cf  62aa2b37e33ccae4961a4daa         1\n4  62ab1fb3fd2e7fbd58da41d3  62ab6afe4a2fcedd4ce86a7a         1\n5  62acd4d9ba0c8633231112d9  6345b22444e3d00b138cdae2         1\n5  62acd4d9ba0c8633231112d9  62e668de6559e7a36a34fd59         1",
      "text/html": "<div>\n<style scoped>\n    .dataframe tbody tr th:only-of-type {\n        vertical-align: middle;\n    }\n\n    .dataframe tbody tr th {\n        vertical-align: top;\n    }\n\n    .dataframe thead th {\n        text-align: right;\n    }\n</style>\n<table border=\"1\" class=\"dataframe\">\n  <thead>\n    <tr style=\"text-align: right;\">\n      <th></th>\n      <th>user_id</th>\n      <th>item_id</th>\n      <th>wishlist</th>\n    </tr>\n  </thead>\n  <tbody>\n    <tr>\n      <th>0</th>\n      <td>6288e2fdd5ab6070dde8db8b</td>\n      <td>6288e32dd5ab6070dde8db8a</td>\n      <td>1</td>\n    </tr>\n    <tr>\n      <th>1</th>\n      <td>629f5bee10456c7cbc3af712</td>\n      <td>6288e32dd5ab6070dde8db8a</td>\n      <td>1</td>\n    </tr>\n    <tr>\n      <th>1</th>\n      <td>629f5bee10456c7cbc3af712</td>\n      <td>62ab28e88a757f60cc3f31db</td>\n      <td>1</td>\n    </tr>\n    <tr>\n      <th>1</th>\n      <td>629f5bee10456c7cbc3af712</td>\n      <td>62dd9a8a5ef6265fb6823107</td>\n      <td>1</td>\n    </tr>\n    <tr>\n      <th>1</th>\n      <td>629f5bee10456c7cbc3af712</td>\n      <td>62b4391cd7995d801996d75f</td>\n      <td>1</td>\n    </tr>\n    <tr>\n      <th>2</th>\n      <td>6288e2fdd5ab6070dde8db8c</td>\n      <td>6288e32dd5ab6070dde8db8a</td>\n      <td>1</td>\n    </tr>\n    <tr>\n      <th>3</th>\n      <td>62ab1b5cfd2e7fbd58da41cf</td>\n      <td>62aa2b37e33ccae4961a4daa</td>\n      <td>1</td>\n    </tr>\n    <tr>\n      <th>4</th>\n      <td>62ab1fb3fd2e7fbd58da41d3</td>\n      <td>62ab6afe4a2fcedd4ce86a7a</td>\n      <td>1</td>\n    </tr>\n    <tr>\n      <th>5</th>\n      <td>62acd4d9ba0c8633231112d9</td>\n      <td>6345b22444e3d00b138cdae2</td>\n      <td>1</td>\n    </tr>\n    <tr>\n      <th>5</th>\n      <td>62acd4d9ba0c8633231112d9</td>\n      <td>62e668de6559e7a36a34fd59</td>\n      <td>1</td>\n    </tr>\n  </tbody>\n</table>\n</div>"
     },
     "metadata": {},
     "output_type": "display_data"
    },
    {
     "data": {
      "text/plain": "                    user_id                   item_id  search\n0  6288e2fdd5ab6070dde8db8b  6288e32dd5ab6070dde8db8a       1\n1  629f5bee10456c7cbc3af712  62dd3383d1f50b95cb0c8f33       1\n1  629f5bee10456c7cbc3af712  62d8515b7e5961377764ed3a       1\n1  629f5bee10456c7cbc3af712  62f7f53dc48b41f538750d14       1\n1  629f5bee10456c7cbc3af712  62ab638288a7811f65839221       1\n1  629f5bee10456c7cbc3af712  62b4407ddd971448a4beeaeb       1\n1  629f5bee10456c7cbc3af712  62b495c27c93cafdd7d0944f       1\n1  629f5bee10456c7cbc3af712  62b5871901bc976edbd13a94       1\n1  629f5bee10456c7cbc3af712  62ab28e88a757f60cc3f31db       1\n1  629f5bee10456c7cbc3af712  6322409d86d1ba39137c5ccc       1",
      "text/html": "<div>\n<style scoped>\n    .dataframe tbody tr th:only-of-type {\n        vertical-align: middle;\n    }\n\n    .dataframe tbody tr th {\n        vertical-align: top;\n    }\n\n    .dataframe thead th {\n        text-align: right;\n    }\n</style>\n<table border=\"1\" class=\"dataframe\">\n  <thead>\n    <tr style=\"text-align: right;\">\n      <th></th>\n      <th>user_id</th>\n      <th>item_id</th>\n      <th>search</th>\n    </tr>\n  </thead>\n  <tbody>\n    <tr>\n      <th>0</th>\n      <td>6288e2fdd5ab6070dde8db8b</td>\n      <td>6288e32dd5ab6070dde8db8a</td>\n      <td>1</td>\n    </tr>\n    <tr>\n      <th>1</th>\n      <td>629f5bee10456c7cbc3af712</td>\n      <td>62dd3383d1f50b95cb0c8f33</td>\n      <td>1</td>\n    </tr>\n    <tr>\n      <th>1</th>\n      <td>629f5bee10456c7cbc3af712</td>\n      <td>62d8515b7e5961377764ed3a</td>\n      <td>1</td>\n    </tr>\n    <tr>\n      <th>1</th>\n      <td>629f5bee10456c7cbc3af712</td>\n      <td>62f7f53dc48b41f538750d14</td>\n      <td>1</td>\n    </tr>\n    <tr>\n      <th>1</th>\n      <td>629f5bee10456c7cbc3af712</td>\n      <td>62ab638288a7811f65839221</td>\n      <td>1</td>\n    </tr>\n    <tr>\n      <th>1</th>\n      <td>629f5bee10456c7cbc3af712</td>\n      <td>62b4407ddd971448a4beeaeb</td>\n      <td>1</td>\n    </tr>\n    <tr>\n      <th>1</th>\n      <td>629f5bee10456c7cbc3af712</td>\n      <td>62b495c27c93cafdd7d0944f</td>\n      <td>1</td>\n    </tr>\n    <tr>\n      <th>1</th>\n      <td>629f5bee10456c7cbc3af712</td>\n      <td>62b5871901bc976edbd13a94</td>\n      <td>1</td>\n    </tr>\n    <tr>\n      <th>1</th>\n      <td>629f5bee10456c7cbc3af712</td>\n      <td>62ab28e88a757f60cc3f31db</td>\n      <td>1</td>\n    </tr>\n    <tr>\n      <th>1</th>\n      <td>629f5bee10456c7cbc3af712</td>\n      <td>6322409d86d1ba39137c5ccc</td>\n      <td>1</td>\n    </tr>\n  </tbody>\n</table>\n</div>"
     },
     "metadata": {},
     "output_type": "display_data"
    }
   ],
   "source": [
    "reviews_collection = db['reviews']\n",
    "favourites_collection = db['user_favourites']\n",
    "wishlist_collection = db['user_wishlist']\n",
    "user_search_collection = db['user_search_history']\n",
    "\n",
    "reviews_df = pd.DataFrame(\n",
    "    list(reviews_collection.find({}, {'_id': 0, 'user_id': 1, 'alcohol_id': 1, 'rating': 1}))\n",
    ").rename(columns={'alcohol_id': 'item_id'})\n",
    "display(reviews_df.head(10))\n",
    "\n",
    "favourites_df = pd.DataFrame(\n",
    "    list(favourites_collection.find({'alcohols': {'$ne': [] }}, {'_id': 0, 'user_id': 1, 'alcohols': 1}))\n",
    ").explode('alcohols').rename(columns={'alcohols': 'item_id'})\n",
    "favourites_df['favourite'] = 1\n",
    "display(favourites_df.head(10))\n",
    "\n",
    "wishlist_df = pd.DataFrame(\n",
    "    list(wishlist_collection.find({'alcohols': {'$ne': [] }}, {'_id': 0, 'user_id': 1, 'alcohols': 1}))\n",
    ").explode('alcohols').rename(columns={'alcohols': 'item_id'})\n",
    "wishlist_df['wishlist'] = 1\n",
    "display(wishlist_df.head(10))\n",
    "\n",
    "user_search = list(user_search_collection.find({'alcohols': {'$ne': [] }}, {'_id': 0, 'user_id': 1, 'alcohols': 1}))\n",
    "user_search = [\n",
    "    {\n",
    "        'user_id': user_search_entry['user_id'],\n",
    "        'alcohols': set(\n",
    "            [alcohol_search_entry['alcohol_id'] for alcohol_search_entry in user_search_entry['alcohols']]\n",
    "        )\n",
    "    } for user_search_entry in user_search\n",
    "]\n",
    "user_search_df = pd.DataFrame(\n",
    "    user_search\n",
    ").explode('alcohols').rename(columns={'alcohols': 'item_id'})\n",
    "user_search_df['search'] = 1\n",
    "display(user_search_df.head(10))\n",
    "\n",
    "# free memory and close db connection\n",
    "del reviews_collection, favourites_collection, wishlist_collection, user_search_collection, user_search\n",
    "db.client.close()"
   ],
   "metadata": {
    "collapsed": false,
    "pycharm": {
     "name": "#%%\n"
    }
   }
  },
  {
   "cell_type": "markdown",
   "source": [
    "### Merge dataframes"
   ],
   "metadata": {
    "collapsed": false,
    "pycharm": {
     "name": "#%% md\n"
    }
   }
  },
  {
   "cell_type": "code",
   "execution_count": 208,
   "outputs": [
    {
     "data": {
      "text/plain": "                    user_id                   item_id  rating  search  \\\n0  6288e2fdd5ab6070dde8db8c  6288e32dd5ab6070dde8db8a     5.0     0.0   \n1  629f5bee10456c7cbc3af712  62b4c0265aff740017de687a     3.0     0.0   \n2  629f5bee10456c7cbc3af712  62b5871901bc976edbd13a94     3.0     1.0   \n3  62ab1fb3fd2e7fbd58da41d3  62ab7d6b88a7811f6583922b     5.0     1.0   \n4  62ab1fb3fd2e7fbd58da41d3  62b4391cd7995d801996d75f     4.0     1.0   \n5  62acd4d9ba0c8633231112d9  62fa9edb2eb13eb1b8afd64c     4.0     1.0   \n6  62aed4f0d20cdefa840bac0b  62b4a1805aff740017de6866     5.0     0.0   \n7  62acd4d9ba0c8633231112d9  62d1bb5e0f95370144ad09e2     4.0     0.0   \n8  629f5bee10456c7cbc3af712  62b4407ddd971448a4beeaeb     3.0     1.0   \n9  62ab1b5cfd2e7fbd58da41cf  62d5b5fd20512ec9fa9a0dd6     4.0     1.0   \n\n   favourite  wishlist  \n0        0.0       1.0  \n1        0.0       0.0  \n2        0.0       0.0  \n3        1.0       0.0  \n4        0.0       0.0  \n5        1.0       0.0  \n6        1.0       0.0  \n7        0.0       0.0  \n8        1.0       0.0  \n9        1.0       0.0  ",
      "text/html": "<div>\n<style scoped>\n    .dataframe tbody tr th:only-of-type {\n        vertical-align: middle;\n    }\n\n    .dataframe tbody tr th {\n        vertical-align: top;\n    }\n\n    .dataframe thead th {\n        text-align: right;\n    }\n</style>\n<table border=\"1\" class=\"dataframe\">\n  <thead>\n    <tr style=\"text-align: right;\">\n      <th></th>\n      <th>user_id</th>\n      <th>item_id</th>\n      <th>rating</th>\n      <th>search</th>\n      <th>favourite</th>\n      <th>wishlist</th>\n    </tr>\n  </thead>\n  <tbody>\n    <tr>\n      <th>0</th>\n      <td>6288e2fdd5ab6070dde8db8c</td>\n      <td>6288e32dd5ab6070dde8db8a</td>\n      <td>5.0</td>\n      <td>0.0</td>\n      <td>0.0</td>\n      <td>1.0</td>\n    </tr>\n    <tr>\n      <th>1</th>\n      <td>629f5bee10456c7cbc3af712</td>\n      <td>62b4c0265aff740017de687a</td>\n      <td>3.0</td>\n      <td>0.0</td>\n      <td>0.0</td>\n      <td>0.0</td>\n    </tr>\n    <tr>\n      <th>2</th>\n      <td>629f5bee10456c7cbc3af712</td>\n      <td>62b5871901bc976edbd13a94</td>\n      <td>3.0</td>\n      <td>1.0</td>\n      <td>0.0</td>\n      <td>0.0</td>\n    </tr>\n    <tr>\n      <th>3</th>\n      <td>62ab1fb3fd2e7fbd58da41d3</td>\n      <td>62ab7d6b88a7811f6583922b</td>\n      <td>5.0</td>\n      <td>1.0</td>\n      <td>1.0</td>\n      <td>0.0</td>\n    </tr>\n    <tr>\n      <th>4</th>\n      <td>62ab1fb3fd2e7fbd58da41d3</td>\n      <td>62b4391cd7995d801996d75f</td>\n      <td>4.0</td>\n      <td>1.0</td>\n      <td>0.0</td>\n      <td>0.0</td>\n    </tr>\n    <tr>\n      <th>5</th>\n      <td>62acd4d9ba0c8633231112d9</td>\n      <td>62fa9edb2eb13eb1b8afd64c</td>\n      <td>4.0</td>\n      <td>1.0</td>\n      <td>1.0</td>\n      <td>0.0</td>\n    </tr>\n    <tr>\n      <th>6</th>\n      <td>62aed4f0d20cdefa840bac0b</td>\n      <td>62b4a1805aff740017de6866</td>\n      <td>5.0</td>\n      <td>0.0</td>\n      <td>1.0</td>\n      <td>0.0</td>\n    </tr>\n    <tr>\n      <th>7</th>\n      <td>62acd4d9ba0c8633231112d9</td>\n      <td>62d1bb5e0f95370144ad09e2</td>\n      <td>4.0</td>\n      <td>0.0</td>\n      <td>0.0</td>\n      <td>0.0</td>\n    </tr>\n    <tr>\n      <th>8</th>\n      <td>629f5bee10456c7cbc3af712</td>\n      <td>62b4407ddd971448a4beeaeb</td>\n      <td>3.0</td>\n      <td>1.0</td>\n      <td>1.0</td>\n      <td>0.0</td>\n    </tr>\n    <tr>\n      <th>9</th>\n      <td>62ab1b5cfd2e7fbd58da41cf</td>\n      <td>62d5b5fd20512ec9fa9a0dd6</td>\n      <td>4.0</td>\n      <td>1.0</td>\n      <td>1.0</td>\n      <td>0.0</td>\n    </tr>\n  </tbody>\n</table>\n</div>"
     },
     "metadata": {},
     "output_type": "display_data"
    }
   ],
   "source": [
    "interactions_df = pd.merge(\n",
    "    reviews_df,\n",
    "    pd.merge(\n",
    "        user_search_df,\n",
    "        pd.merge(favourites_df, wishlist_df, on=['user_id', 'item_id'], how='outer'),\n",
    "        on=['user_id', 'item_id'],\n",
    "        how='outer'\n",
    "    ),\n",
    "    on=['user_id', 'item_id'],\n",
    "    how='outer'\n",
    ").fillna(0)\n",
    "\n",
    "# free memory\n",
    "del reviews_df, user_search_df, favourites_df, wishlist_df\n",
    "\n",
    "interactions_df['user_id'] = interactions_df['user_id'].apply(lambda x: str(x))\n",
    "interactions_df['item_id'] = interactions_df['item_id'].apply(lambda x: str(x))\n",
    "\n",
    "display(interactions_df.head(10))"
   ],
   "metadata": {
    "collapsed": false,
    "pycharm": {
     "name": "#%%\n"
    }
   }
  },
  {
   "cell_type": "markdown",
   "source": [
    "### Merge interactions with items"
   ],
   "metadata": {
    "collapsed": false,
    "pycharm": {
     "name": "#%% md\n"
    }
   }
  },
  {
   "cell_type": "code",
   "execution_count": 209,
   "outputs": [
    {
     "data": {
      "text/plain": "                     user_id                   item_id  rating  search  \\\n0   629f5bee10456c7cbc3af712  62b4c0265aff740017de687a     3.0     0.0   \n1   629f5bee10456c7cbc3af712  62b5871901bc976edbd13a94     3.0     1.0   \n2   62ab1fb3fd2e7fbd58da41d3  62b5871901bc976edbd13a94     3.0     1.0   \n3   62ab1fb3fd2e7fbd58da41d3  62ab7d6b88a7811f6583922b     5.0     1.0   \n4   62acd4d9ba0c8633231112d9  62ab7d6b88a7811f6583922b     0.0     1.0   \n..                       ...                       ...     ...     ...   \n74  62aed4f0d20cdefa840bac0b  62f4065cd079a6eda7ddf043     0.0     1.0   \n75  62aed4f0d20cdefa840bac0b  6341ec675594f5b0694aaf04     0.0     1.0   \n76  62aed4f0d20cdefa840bac0b  62b4ec475aff740017de688c     0.0     1.0   \n77  62aed4f0d20cdefa840bac0b  635305991e38252337505fe2     0.0     1.0   \n78  62ab1fb3fd2e7fbd58da41d3  62ab6afe4a2fcedd4ce86a7a     0.0     0.0   \n\n    favourite  wishlist                                  name     kind  \\\n0         0.0       0.0                 SIERRA Silver Tequila  tequila   \n1         0.0       0.0               Cydr lubelski klasyczny     cydr   \n2         0.0       0.0               Cydr lubelski klasyczny     cydr   \n3         1.0       0.0                        Bacardi Spiced      rum   \n4         0.0       0.0                        Bacardi Spiced      rum   \n..        ...       ...                                   ...      ...   \n74        0.0       0.0                          Zlatý Bažant     piwo   \n75        0.0       0.0                  AleBrowar Black Hope     piwo   \n76        0.0       0.0                Absolwent Grejpfrutowy   likier   \n77        0.0       0.0  AleBrowar & Nocny Kochanek Amarenowe     piwo   \n78        1.0       1.0   Captain Morgan Original Spiced Gold      rum   \n\n          type  alcohol_by_volume          color  \\\n0       czysta               38.0  przezroczysty   \n1     musujący                4.5  przezroczysty   \n2     musujący                4.5  przezroczysty   \n3        złoty               35.0      miedziany   \n4        złoty               35.0      miedziany   \n..         ...                ...            ...   \n74     pilsner                4.6          złoty   \n75   Black IPA                6.2         czarny   \n76     owocowy               32.0         różowy   \n77  Fruit gose                4.6         ciemne   \n78       złoty               35.0    bursztynowy   \n\n                      manufacturer      country         region  \n0   Destileria Sierra S.A. de C.V.       Meksyk            NaN  \n1                       Ambra S.A.       Polska  Lubelszczyzna  \n2                       Ambra S.A.       Polska  Lubelszczyzna  \n3                 Santiago de Cuba  Puerto Rico            NaN  \n4                 Santiago de Cuba  Puerto Rico            NaN  \n..                             ...          ...            ...  \n74                Martin Sp z o.o.    Slowacja             NaN  \n75                       AleBrowar       Polska        Wrocław  \n76                Polmos Białystok       Polska            NaN  \n77                       AleBrowar       Polska        Wrocław  \n78                      Diageo PLC       Anglia         Londyn  \n\n[79 rows x 14 columns]",
      "text/html": "<div>\n<style scoped>\n    .dataframe tbody tr th:only-of-type {\n        vertical-align: middle;\n    }\n\n    .dataframe tbody tr th {\n        vertical-align: top;\n    }\n\n    .dataframe thead th {\n        text-align: right;\n    }\n</style>\n<table border=\"1\" class=\"dataframe\">\n  <thead>\n    <tr style=\"text-align: right;\">\n      <th></th>\n      <th>user_id</th>\n      <th>item_id</th>\n      <th>rating</th>\n      <th>search</th>\n      <th>favourite</th>\n      <th>wishlist</th>\n      <th>name</th>\n      <th>kind</th>\n      <th>type</th>\n      <th>alcohol_by_volume</th>\n      <th>color</th>\n      <th>manufacturer</th>\n      <th>country</th>\n      <th>region</th>\n    </tr>\n  </thead>\n  <tbody>\n    <tr>\n      <th>0</th>\n      <td>629f5bee10456c7cbc3af712</td>\n      <td>62b4c0265aff740017de687a</td>\n      <td>3.0</td>\n      <td>0.0</td>\n      <td>0.0</td>\n      <td>0.0</td>\n      <td>SIERRA Silver Tequila</td>\n      <td>tequila</td>\n      <td>czysta</td>\n      <td>38.0</td>\n      <td>przezroczysty</td>\n      <td>Destileria Sierra S.A. de C.V.</td>\n      <td>Meksyk</td>\n      <td>NaN</td>\n    </tr>\n    <tr>\n      <th>1</th>\n      <td>629f5bee10456c7cbc3af712</td>\n      <td>62b5871901bc976edbd13a94</td>\n      <td>3.0</td>\n      <td>1.0</td>\n      <td>0.0</td>\n      <td>0.0</td>\n      <td>Cydr lubelski klasyczny</td>\n      <td>cydr</td>\n      <td>musujący</td>\n      <td>4.5</td>\n      <td>przezroczysty</td>\n      <td>Ambra S.A.</td>\n      <td>Polska</td>\n      <td>Lubelszczyzna</td>\n    </tr>\n    <tr>\n      <th>2</th>\n      <td>62ab1fb3fd2e7fbd58da41d3</td>\n      <td>62b5871901bc976edbd13a94</td>\n      <td>3.0</td>\n      <td>1.0</td>\n      <td>0.0</td>\n      <td>0.0</td>\n      <td>Cydr lubelski klasyczny</td>\n      <td>cydr</td>\n      <td>musujący</td>\n      <td>4.5</td>\n      <td>przezroczysty</td>\n      <td>Ambra S.A.</td>\n      <td>Polska</td>\n      <td>Lubelszczyzna</td>\n    </tr>\n    <tr>\n      <th>3</th>\n      <td>62ab1fb3fd2e7fbd58da41d3</td>\n      <td>62ab7d6b88a7811f6583922b</td>\n      <td>5.0</td>\n      <td>1.0</td>\n      <td>1.0</td>\n      <td>0.0</td>\n      <td>Bacardi Spiced</td>\n      <td>rum</td>\n      <td>złoty</td>\n      <td>35.0</td>\n      <td>miedziany</td>\n      <td>Santiago de Cuba</td>\n      <td>Puerto Rico</td>\n      <td>NaN</td>\n    </tr>\n    <tr>\n      <th>4</th>\n      <td>62acd4d9ba0c8633231112d9</td>\n      <td>62ab7d6b88a7811f6583922b</td>\n      <td>0.0</td>\n      <td>1.0</td>\n      <td>0.0</td>\n      <td>0.0</td>\n      <td>Bacardi Spiced</td>\n      <td>rum</td>\n      <td>złoty</td>\n      <td>35.0</td>\n      <td>miedziany</td>\n      <td>Santiago de Cuba</td>\n      <td>Puerto Rico</td>\n      <td>NaN</td>\n    </tr>\n    <tr>\n      <th>...</th>\n      <td>...</td>\n      <td>...</td>\n      <td>...</td>\n      <td>...</td>\n      <td>...</td>\n      <td>...</td>\n      <td>...</td>\n      <td>...</td>\n      <td>...</td>\n      <td>...</td>\n      <td>...</td>\n      <td>...</td>\n      <td>...</td>\n      <td>...</td>\n    </tr>\n    <tr>\n      <th>74</th>\n      <td>62aed4f0d20cdefa840bac0b</td>\n      <td>62f4065cd079a6eda7ddf043</td>\n      <td>0.0</td>\n      <td>1.0</td>\n      <td>0.0</td>\n      <td>0.0</td>\n      <td>Zlatý Bažant</td>\n      <td>piwo</td>\n      <td>pilsner</td>\n      <td>4.6</td>\n      <td>złoty</td>\n      <td>Martin Sp z o.o.</td>\n      <td>Slowacja</td>\n      <td>NaN</td>\n    </tr>\n    <tr>\n      <th>75</th>\n      <td>62aed4f0d20cdefa840bac0b</td>\n      <td>6341ec675594f5b0694aaf04</td>\n      <td>0.0</td>\n      <td>1.0</td>\n      <td>0.0</td>\n      <td>0.0</td>\n      <td>AleBrowar Black Hope</td>\n      <td>piwo</td>\n      <td>Black IPA</td>\n      <td>6.2</td>\n      <td>czarny</td>\n      <td>AleBrowar</td>\n      <td>Polska</td>\n      <td>Wrocław</td>\n    </tr>\n    <tr>\n      <th>76</th>\n      <td>62aed4f0d20cdefa840bac0b</td>\n      <td>62b4ec475aff740017de688c</td>\n      <td>0.0</td>\n      <td>1.0</td>\n      <td>0.0</td>\n      <td>0.0</td>\n      <td>Absolwent Grejpfrutowy</td>\n      <td>likier</td>\n      <td>owocowy</td>\n      <td>32.0</td>\n      <td>różowy</td>\n      <td>Polmos Białystok</td>\n      <td>Polska</td>\n      <td>NaN</td>\n    </tr>\n    <tr>\n      <th>77</th>\n      <td>62aed4f0d20cdefa840bac0b</td>\n      <td>635305991e38252337505fe2</td>\n      <td>0.0</td>\n      <td>1.0</td>\n      <td>0.0</td>\n      <td>0.0</td>\n      <td>AleBrowar &amp; Nocny Kochanek Amarenowe</td>\n      <td>piwo</td>\n      <td>Fruit gose</td>\n      <td>4.6</td>\n      <td>ciemne</td>\n      <td>AleBrowar</td>\n      <td>Polska</td>\n      <td>Wrocław</td>\n    </tr>\n    <tr>\n      <th>78</th>\n      <td>62ab1fb3fd2e7fbd58da41d3</td>\n      <td>62ab6afe4a2fcedd4ce86a7a</td>\n      <td>0.0</td>\n      <td>0.0</td>\n      <td>1.0</td>\n      <td>1.0</td>\n      <td>Captain Morgan Original Spiced Gold</td>\n      <td>rum</td>\n      <td>złoty</td>\n      <td>35.0</td>\n      <td>bursztynowy</td>\n      <td>Diageo PLC</td>\n      <td>Anglia</td>\n      <td>Londyn</td>\n    </tr>\n  </tbody>\n</table>\n<p>79 rows × 14 columns</p>\n</div>"
     },
     "metadata": {},
     "output_type": "display_data"
    }
   ],
   "source": [
    "ml_df = pd.merge(interactions_df, items_df, on='item_id')\n",
    "display(ml_df)"
   ],
   "metadata": {
    "collapsed": false,
    "pycharm": {
     "name": "#%%\n"
    }
   }
  },
  {
   "cell_type": "markdown",
   "source": [
    "### Linear Regression Recommender"
   ],
   "metadata": {
    "collapsed": false,
    "pycharm": {
     "name": "#%% md\n"
    }
   }
  },
  {
   "cell_type": "markdown",
   "source": [
    "### Quick test"
   ],
   "metadata": {
    "collapsed": false,
    "pycharm": {
     "name": "#%% md\n"
    }
   }
  },
  {
   "cell_type": "code",
   "execution_count": 327,
   "outputs": [],
   "source": [
    "from sklearn.linear_model import LinearRegression\n",
    "from sklearn.preprocessing import MultiLabelBinarizer\n",
    "\n",
    "\n",
    "class LinearRegressionRecommender:\n",
    "    def __init__(self):\n",
    "        self.model = None\n",
    "        self.mlb = None\n",
    "        self.users_dict = None\n",
    "        self.user_features = None\n",
    "\n",
    "    def fit(self, interactions_df, items_df):\n",
    "        # Prepare user features\n",
    "        _items_df = items_df.copy()\n",
    "        _items_df['alcohol_type'] = _items_df['kind'] + '_' + _items_df['type']\n",
    "        _items_df['alcohol_type'] = _items_df['alcohol_type'].apply(lambda x: [x.lower()])\n",
    "\n",
    "        _interactions_df = interactions_df.copy()\n",
    "        users_df = interactions_df[['user_id', 'kind', 'type', 'rating', 'favourite', 'search', 'wishlist']].copy()\n",
    "        users_df['rating'] = users_df['rating'].apply(lambda x: 1 if x > 0 else x)\n",
    "        users_df['num_of_interactions'] = users_df['rating'] + \\\n",
    "                                                  users_df['favourite'] + \\\n",
    "                                                  users_df['search'] + \\\n",
    "                                                  users_df['wishlist']\n",
    "        users_df['alcohol_type'] = users_df['kind'].str.lower() + '_' + users_df['type'].str.lower()\n",
    "        users_df.drop(columns=['kind', 'type', 'rating', 'favourite', 'search', 'wishlist'], inplace=True)\n",
    "        users_df = users_df.pivot_table(index='user_id', columns='alcohol_type', values='num_of_interactions', aggfunc='sum')\n",
    "        users_df = users_df / users_df.sum(axis=1).values.reshape(-1, 1)\n",
    "        users_df = users_df.rename_axis(None, axis=1).fillna(0)\n",
    "\n",
    "        self.users_dict = users_df.to_dict('index')\n",
    "\n",
    "        self.user_features = users_df.columns.tolist()\n",
    "\n",
    "        _interactions_df['alcohol_type'] = _interactions_df['kind'] + '_' + _interactions_df['type']\n",
    "        _interactions_df['alcohol_type'] = _interactions_df['alcohol_type'].apply(lambda x: [x.lower()])\n",
    "        _interactions_df['num_of_interactions'] = _interactions_df['rating'] + \\\n",
    "                                                  _interactions_df['favourite'] + \\\n",
    "                                                  _interactions_df['search'] + \\\n",
    "                                                  _interactions_df['wishlist']\n",
    "        # Prepare item features\n",
    "\n",
    "        # Transform alcohol types into binary values\n",
    "\n",
    "        self.mlb = MultiLabelBinarizer()\n",
    "        _interactions_df = _interactions_df.join(\n",
    "            pd.DataFrame(\n",
    "                self.mlb.fit_transform(_interactions_df.pop('alcohol_type')),\n",
    "                columns=self.mlb.classes_,\n",
    "                index=_interactions_df.index\n",
    "            )\n",
    "        )\n",
    "        users_df = users_df.add_prefix('user_')\n",
    "        _interactions_df = _interactions_df.merge(users_df, on='user_id')\n",
    "        # Prepare input data and fit the model\n",
    "        _interactions_df[self.mlb.classes_] = _interactions_df[self.mlb.classes_] \\\n",
    "            / _interactions_df[self.mlb.classes_].sum(axis=1).values.reshape(-1, 1)\n",
    "\n",
    "        _interactions_df[self.mlb.classes_] = _interactions_df[self.mlb.classes_] \\\n",
    "            * _interactions_df[self.user_features].values\n",
    "\n",
    "        x = _interactions_df.loc[:, list(self.mlb.classes_)].values\n",
    "        y = _interactions_df['num_of_interactions'].values\n",
    "        display(x)\n",
    "        display(_interactions_df.loc[:, list(self.mlb.classes_)])\n",
    "        display(_interactions_df['num_of_interactions'])\n",
    "        display(_interactions_df[_interactions_df['whisky_blended'] == 1])\n",
    "        display(_interactions_df[_interactions_df['piwo_specialty beer'] == 1])\n",
    "        display(y)\n",
    "\n",
    "        self.model = LinearRegression().fit(x, y)\n",
    "\n",
    "    def recommend(self, users_df, items_df, n_recommendations=1):\n",
    "        \"\"\"\n",
    "        Serving of recommendations. Scores items in items_df for each user in users_df and returns\n",
    "        top n_recommendations for each user.\n",
    "\n",
    "        :param pd.DataFrame users_df: DataFrame with users and their features for which recommendations should be generated.\n",
    "        :param pd.DataFrame items_df: DataFrame with items and their features which should be scored.\n",
    "        :param int n_recommendations: Number of recommendations to be returned for each user.\n",
    "        :return: DataFrame with user_id, item_id and score as columns returning n_recommendations top recommendations\n",
    "            for each user.\n",
    "        :rtype: pd.DataFrame\n",
    "        \"\"\"\n",
    "\n",
    "        # Transform the item to be scored into proper features\n",
    "        _items_df = items_df.copy()\n",
    "        _items_df['alcohol_type'] = _items_df['kind'] + '_' + _items_df['type']\n",
    "        _items_df['alcohol_type'] = _items_df['alcohol_type'].apply(lambda x: [x.lower()])\n",
    "\n",
    "        _items_df = _items_df.join(\n",
    "            pd.DataFrame(\n",
    "                self.mlb.transform(_items_df.pop('alcohol_type')),\n",
    "                columns=self.mlb.classes_,\n",
    "                index=items_df.index\n",
    "            )\n",
    "        )\n",
    "\n",
    "        # Score the item\n",
    "        recommendations = pd.DataFrame(columns=['user_id', 'item_id', 'score'])\n",
    "\n",
    "        for ix, user in users_df.iterrows():\n",
    "            if user['user_id'] in self.users_dict:\n",
    "                user_df = pd.DataFrame.from_dict({user['user_id']: self.users_dict[user['user_id']]}, orient='index')\n",
    "            else:\n",
    "                user_df = pd.DataFrame.from_dict(\n",
    "                    {user['user_id']: [1 / len(self.user_features)]*len(self.user_features)},\n",
    "                    orient='index'\n",
    "                )\n",
    "            input_df = _items_df.copy()\n",
    "            input_df[self.mlb.classes_] = _items_df[self.mlb.classes_] * user_df.values\n",
    "            scores = self.model.predict(input_df.loc[:, self.mlb.classes_].values)\n",
    "            display(scores[499])\n",
    "            display(scores[42])\n",
    "            chosen_pos = np.argsort(-scores)[:n_recommendations]\n",
    "            display(chosen_pos)\n",
    "            user_recommendations = []\n",
    "            for item_pos in chosen_pos:\n",
    "                user_recommendations.append(\n",
    "                    {\n",
    "                        'user_id': user['user_id'],\n",
    "                        'item_id': input_df.iloc[item_pos]['item_id'],\n",
    "                        'score': scores[item_pos]\n",
    "                    }\n",
    "                )\n",
    "\n",
    "            user_recommendations = pd.DataFrame(user_recommendations)\n",
    "\n",
    "            recommendations = pd.concat([recommendations, user_recommendations])\n",
    "\n",
    "        return recommendations"
   ],
   "metadata": {
    "collapsed": false,
    "pycharm": {
     "name": "#%%\n"
    }
   }
  },
  {
   "cell_type": "code",
   "execution_count": 328,
   "outputs": [
    {
     "data": {
      "text/plain": "array([[0., 0., 0., ..., 0., 0., 0.],\n       [1., 0., 0., ..., 0., 0., 0.],\n       [0., 0., 0., ..., 0., 0., 0.],\n       ...,\n       [0., 0., 0., ..., 0., 0., 0.],\n       [0., 0., 1., ..., 0., 0., 0.],\n       [0., 0., 0., ..., 0., 0., 0.]])"
     },
     "metadata": {},
     "output_type": "display_data"
    },
    {
     "data": {
      "text/plain": "    cydr_musujący  likier_mleczny  likier_owocowy  likier_ziołowy  piwo_aipa  \\\n0             0.0             0.0             0.0             0.0        0.0   \n1             1.0             0.0             0.0             0.0        0.0   \n2             0.0             0.0             0.0             0.0        0.0   \n3             0.0             0.0             0.0             0.0        0.0   \n4             0.0             1.0             0.0             0.0        0.0   \n..            ...             ...             ...             ...        ...   \n74            0.0             0.0             0.0             0.0        0.0   \n75            0.0             0.0             0.0             0.0        0.0   \n76            0.0             0.0             0.0             0.0        0.0   \n77            0.0             0.0             1.0             0.0        0.0   \n78            0.0             0.0             0.0             0.0        0.0   \n\n    piwo_american ipa  piwo_american pale ale  piwo_apa  piwo_baltic porter  \\\n0                 0.0                     0.0       0.0                 0.0   \n1                 0.0                     0.0       0.0                 0.0   \n2                 0.0                     0.0       0.0                 0.0   \n3                 0.0                     0.0       0.0                 0.0   \n4                 0.0                     0.0       0.0                 0.0   \n..                ...                     ...       ...                 ...   \n74                0.0                     0.0       0.0                 0.0   \n75                0.0                     0.0       0.0                 0.0   \n76                0.0                     0.0       0.0                 0.0   \n77                0.0                     0.0       0.0                 0.0   \n78                0.0                     0.0       0.0                 0.0   \n\n    piwo_black ipa  piwo_bohemian pilsener  piwo_ciemny lager  \\\n0              0.0                     0.0                0.0   \n1              0.0                     0.0                0.0   \n2              0.0                     0.0                0.0   \n3              0.0                     0.0                0.0   \n4              0.0                     0.0                0.0   \n..             ...                     ...                ...   \n74             0.0                     0.0                0.0   \n75             0.0                     0.0                0.0   \n76             1.0                     0.0                0.0   \n77             0.0                     0.0                0.0   \n78             0.0                     0.0                0.0   \n\n    piwo_english pale ale  piwo_fruit & honey ale  piwo_fruit gose  \\\n0                     0.0                     0.0              0.0   \n1                     0.0                     0.0              0.0   \n2                     0.0                     0.0              0.0   \n3                     0.0                     0.0              0.0   \n4                     0.0                     0.0              0.0   \n..                    ...                     ...              ...   \n74                    1.0                     0.0              0.0   \n75                    0.0                     0.0              0.0   \n76                    0.0                     0.0              0.0   \n77                    0.0                     0.0              0.0   \n78                    0.0                     0.0              1.0   \n\n    piwo_india pale ale  piwo_lager  piwo_milk stout  \\\n0                   0.0         0.0              0.0   \n1                   0.0         0.0              0.0   \n2                   0.0         0.0              0.0   \n3                   0.0         0.0              0.0   \n4                   0.0         0.0              0.0   \n..                  ...         ...              ...   \n74                  0.0         0.0              0.0   \n75                  0.0         0.0              0.0   \n76                  0.0         0.0              0.0   \n77                  0.0         0.0              0.0   \n78                  0.0         0.0              0.0   \n\n    piwo_non-alcoholic witbier  piwo_pale lager  piwo_pils  piwo_pilsner  \\\n0                          0.0              0.0        0.0           0.0   \n1                          0.0              0.0        0.0           0.0   \n2                          0.0              0.0        0.0           0.0   \n3                          0.0              0.0        0.0           0.0   \n4                          0.0              0.0        0.0           0.0   \n..                         ...              ...        ...           ...   \n74                         0.0              0.0        0.0           0.0   \n75                         0.0              0.0        0.0           1.0   \n76                         0.0              0.0        0.0           0.0   \n77                         0.0              0.0        0.0           0.0   \n78                         0.0              0.0        0.0           0.0   \n\n    piwo_porter  piwo_smoked imperial stout  piwo_smoked white ipa  \\\n0           0.0                         0.0                    0.0   \n1           0.0                         0.0                    0.0   \n2           0.0                         0.0                    0.0   \n3           0.0                         0.0                    0.0   \n4           0.0                         0.0                    0.0   \n..          ...                         ...                    ...   \n74          0.0                         0.0                    0.0   \n75          0.0                         0.0                    0.0   \n76          0.0                         0.0                    0.0   \n77          0.0                         0.0                    0.0   \n78          0.0                         0.0                    0.0   \n\n    piwo_sour ale  piwo_specialty beer  piwo_stout  piwo_strong lager  \\\n0             0.0                  0.0         0.0                0.0   \n1             0.0                  0.0         0.0                0.0   \n2             0.0                  0.0         0.0                0.0   \n3             0.0                  0.0         0.0                0.0   \n4             0.0                  0.0         0.0                0.0   \n..            ...                  ...         ...                ...   \n74            0.0                  0.0         0.0                0.0   \n75            0.0                  0.0         0.0                0.0   \n76            0.0                  0.0         0.0                0.0   \n77            0.0                  0.0         0.0                0.0   \n78            0.0                  0.0         0.0                0.0   \n\n    piwo_světlý ležák  piwo_weissbier  piwo_witbier  rum_biały  rum_czarny  \\\n0                 0.0             0.0           0.0        0.0         0.0   \n1                 0.0             0.0           0.0        0.0         0.0   \n2                 0.0             0.0           0.0        0.0         0.0   \n3                 0.0             0.0           0.0        0.0         0.0   \n4                 0.0             0.0           0.0        0.0         0.0   \n..                ...             ...           ...        ...         ...   \n74                0.0             0.0           0.0        0.0         0.0   \n75                0.0             0.0           0.0        0.0         0.0   \n76                0.0             0.0           0.0        0.0         0.0   \n77                0.0             0.0           0.0        0.0         0.0   \n78                0.0             0.0           0.0        0.0         0.0   \n\n    rum_złoty  tequila_czysta  whisky_blended  whisky_single malt  \\\n0         0.0             1.0             0.0                 0.0   \n1         0.0             0.0             0.0                 0.0   \n2         0.0             0.0             1.0                 0.0   \n3         0.0             0.0             1.0                 0.0   \n4         0.0             0.0             0.0                 0.0   \n..        ...             ...             ...                 ...   \n74        0.0             0.0             0.0                 0.0   \n75        0.0             0.0             0.0                 0.0   \n76        0.0             0.0             0.0                 0.0   \n77        0.0             0.0             0.0                 0.0   \n78        0.0             0.0             0.0                 0.0   \n\n    wino_deserowe  wino_słodkie  wino_wytrawne  wódka_czysta  \n0             0.0           0.0            0.0           0.0  \n1             0.0           0.0            0.0           0.0  \n2             0.0           0.0            0.0           0.0  \n3             0.0           0.0            0.0           0.0  \n4             0.0           0.0            0.0           0.0  \n..            ...           ...            ...           ...  \n74            0.0           0.0            0.0           0.0  \n75            0.0           0.0            0.0           0.0  \n76            0.0           0.0            0.0           0.0  \n77            0.0           0.0            0.0           0.0  \n78            0.0           0.0            0.0           0.0  \n\n[79 rows x 42 columns]",
      "text/html": "<div>\n<style scoped>\n    .dataframe tbody tr th:only-of-type {\n        vertical-align: middle;\n    }\n\n    .dataframe tbody tr th {\n        vertical-align: top;\n    }\n\n    .dataframe thead th {\n        text-align: right;\n    }\n</style>\n<table border=\"1\" class=\"dataframe\">\n  <thead>\n    <tr style=\"text-align: right;\">\n      <th></th>\n      <th>cydr_musujący</th>\n      <th>likier_mleczny</th>\n      <th>likier_owocowy</th>\n      <th>likier_ziołowy</th>\n      <th>piwo_aipa</th>\n      <th>piwo_american ipa</th>\n      <th>piwo_american pale ale</th>\n      <th>piwo_apa</th>\n      <th>piwo_baltic porter</th>\n      <th>piwo_black ipa</th>\n      <th>piwo_bohemian pilsener</th>\n      <th>piwo_ciemny lager</th>\n      <th>piwo_english pale ale</th>\n      <th>piwo_fruit &amp; honey ale</th>\n      <th>piwo_fruit gose</th>\n      <th>piwo_india pale ale</th>\n      <th>piwo_lager</th>\n      <th>piwo_milk stout</th>\n      <th>piwo_non-alcoholic witbier</th>\n      <th>piwo_pale lager</th>\n      <th>piwo_pils</th>\n      <th>piwo_pilsner</th>\n      <th>piwo_porter</th>\n      <th>piwo_smoked imperial stout</th>\n      <th>piwo_smoked white ipa</th>\n      <th>piwo_sour ale</th>\n      <th>piwo_specialty beer</th>\n      <th>piwo_stout</th>\n      <th>piwo_strong lager</th>\n      <th>piwo_světlý ležák</th>\n      <th>piwo_weissbier</th>\n      <th>piwo_witbier</th>\n      <th>rum_biały</th>\n      <th>rum_czarny</th>\n      <th>rum_złoty</th>\n      <th>tequila_czysta</th>\n      <th>whisky_blended</th>\n      <th>whisky_single malt</th>\n      <th>wino_deserowe</th>\n      <th>wino_słodkie</th>\n      <th>wino_wytrawne</th>\n      <th>wódka_czysta</th>\n    </tr>\n  </thead>\n  <tbody>\n    <tr>\n      <th>0</th>\n      <td>0.0</td>\n      <td>0.0</td>\n      <td>0.0</td>\n      <td>0.0</td>\n      <td>0.0</td>\n      <td>0.0</td>\n      <td>0.0</td>\n      <td>0.0</td>\n      <td>0.0</td>\n      <td>0.0</td>\n      <td>0.0</td>\n      <td>0.0</td>\n      <td>0.0</td>\n      <td>0.0</td>\n      <td>0.0</td>\n      <td>0.0</td>\n      <td>0.0</td>\n      <td>0.0</td>\n      <td>0.0</td>\n      <td>0.0</td>\n      <td>0.0</td>\n      <td>0.0</td>\n      <td>0.0</td>\n      <td>0.0</td>\n      <td>0.0</td>\n      <td>0.0</td>\n      <td>0.0</td>\n      <td>0.0</td>\n      <td>0.0</td>\n      <td>0.0</td>\n      <td>0.0</td>\n      <td>0.0</td>\n      <td>0.0</td>\n      <td>0.0</td>\n      <td>0.0</td>\n      <td>1.0</td>\n      <td>0.0</td>\n      <td>0.0</td>\n      <td>0.0</td>\n      <td>0.0</td>\n      <td>0.0</td>\n      <td>0.0</td>\n    </tr>\n    <tr>\n      <th>1</th>\n      <td>1.0</td>\n      <td>0.0</td>\n      <td>0.0</td>\n      <td>0.0</td>\n      <td>0.0</td>\n      <td>0.0</td>\n      <td>0.0</td>\n      <td>0.0</td>\n      <td>0.0</td>\n      <td>0.0</td>\n      <td>0.0</td>\n      <td>0.0</td>\n      <td>0.0</td>\n      <td>0.0</td>\n      <td>0.0</td>\n      <td>0.0</td>\n      <td>0.0</td>\n      <td>0.0</td>\n      <td>0.0</td>\n      <td>0.0</td>\n      <td>0.0</td>\n      <td>0.0</td>\n      <td>0.0</td>\n      <td>0.0</td>\n      <td>0.0</td>\n      <td>0.0</td>\n      <td>0.0</td>\n      <td>0.0</td>\n      <td>0.0</td>\n      <td>0.0</td>\n      <td>0.0</td>\n      <td>0.0</td>\n      <td>0.0</td>\n      <td>0.0</td>\n      <td>0.0</td>\n      <td>0.0</td>\n      <td>0.0</td>\n      <td>0.0</td>\n      <td>0.0</td>\n      <td>0.0</td>\n      <td>0.0</td>\n      <td>0.0</td>\n    </tr>\n    <tr>\n      <th>2</th>\n      <td>0.0</td>\n      <td>0.0</td>\n      <td>0.0</td>\n      <td>0.0</td>\n      <td>0.0</td>\n      <td>0.0</td>\n      <td>0.0</td>\n      <td>0.0</td>\n      <td>0.0</td>\n      <td>0.0</td>\n      <td>0.0</td>\n      <td>0.0</td>\n      <td>0.0</td>\n      <td>0.0</td>\n      <td>0.0</td>\n      <td>0.0</td>\n      <td>0.0</td>\n      <td>0.0</td>\n      <td>0.0</td>\n      <td>0.0</td>\n      <td>0.0</td>\n      <td>0.0</td>\n      <td>0.0</td>\n      <td>0.0</td>\n      <td>0.0</td>\n      <td>0.0</td>\n      <td>0.0</td>\n      <td>0.0</td>\n      <td>0.0</td>\n      <td>0.0</td>\n      <td>0.0</td>\n      <td>0.0</td>\n      <td>0.0</td>\n      <td>0.0</td>\n      <td>0.0</td>\n      <td>0.0</td>\n      <td>1.0</td>\n      <td>0.0</td>\n      <td>0.0</td>\n      <td>0.0</td>\n      <td>0.0</td>\n      <td>0.0</td>\n    </tr>\n    <tr>\n      <th>3</th>\n      <td>0.0</td>\n      <td>0.0</td>\n      <td>0.0</td>\n      <td>0.0</td>\n      <td>0.0</td>\n      <td>0.0</td>\n      <td>0.0</td>\n      <td>0.0</td>\n      <td>0.0</td>\n      <td>0.0</td>\n      <td>0.0</td>\n      <td>0.0</td>\n      <td>0.0</td>\n      <td>0.0</td>\n      <td>0.0</td>\n      <td>0.0</td>\n      <td>0.0</td>\n      <td>0.0</td>\n      <td>0.0</td>\n      <td>0.0</td>\n      <td>0.0</td>\n      <td>0.0</td>\n      <td>0.0</td>\n      <td>0.0</td>\n      <td>0.0</td>\n      <td>0.0</td>\n      <td>0.0</td>\n      <td>0.0</td>\n      <td>0.0</td>\n      <td>0.0</td>\n      <td>0.0</td>\n      <td>0.0</td>\n      <td>0.0</td>\n      <td>0.0</td>\n      <td>0.0</td>\n      <td>0.0</td>\n      <td>1.0</td>\n      <td>0.0</td>\n      <td>0.0</td>\n      <td>0.0</td>\n      <td>0.0</td>\n      <td>0.0</td>\n    </tr>\n    <tr>\n      <th>4</th>\n      <td>0.0</td>\n      <td>1.0</td>\n      <td>0.0</td>\n      <td>0.0</td>\n      <td>0.0</td>\n      <td>0.0</td>\n      <td>0.0</td>\n      <td>0.0</td>\n      <td>0.0</td>\n      <td>0.0</td>\n      <td>0.0</td>\n      <td>0.0</td>\n      <td>0.0</td>\n      <td>0.0</td>\n      <td>0.0</td>\n      <td>0.0</td>\n      <td>0.0</td>\n      <td>0.0</td>\n      <td>0.0</td>\n      <td>0.0</td>\n      <td>0.0</td>\n      <td>0.0</td>\n      <td>0.0</td>\n      <td>0.0</td>\n      <td>0.0</td>\n      <td>0.0</td>\n      <td>0.0</td>\n      <td>0.0</td>\n      <td>0.0</td>\n      <td>0.0</td>\n      <td>0.0</td>\n      <td>0.0</td>\n      <td>0.0</td>\n      <td>0.0</td>\n      <td>0.0</td>\n      <td>0.0</td>\n      <td>0.0</td>\n      <td>0.0</td>\n      <td>0.0</td>\n      <td>0.0</td>\n      <td>0.0</td>\n      <td>0.0</td>\n    </tr>\n    <tr>\n      <th>...</th>\n      <td>...</td>\n      <td>...</td>\n      <td>...</td>\n      <td>...</td>\n      <td>...</td>\n      <td>...</td>\n      <td>...</td>\n      <td>...</td>\n      <td>...</td>\n      <td>...</td>\n      <td>...</td>\n      <td>...</td>\n      <td>...</td>\n      <td>...</td>\n      <td>...</td>\n      <td>...</td>\n      <td>...</td>\n      <td>...</td>\n      <td>...</td>\n      <td>...</td>\n      <td>...</td>\n      <td>...</td>\n      <td>...</td>\n      <td>...</td>\n      <td>...</td>\n      <td>...</td>\n      <td>...</td>\n      <td>...</td>\n      <td>...</td>\n      <td>...</td>\n      <td>...</td>\n      <td>...</td>\n      <td>...</td>\n      <td>...</td>\n      <td>...</td>\n      <td>...</td>\n      <td>...</td>\n      <td>...</td>\n      <td>...</td>\n      <td>...</td>\n      <td>...</td>\n      <td>...</td>\n    </tr>\n    <tr>\n      <th>74</th>\n      <td>0.0</td>\n      <td>0.0</td>\n      <td>0.0</td>\n      <td>0.0</td>\n      <td>0.0</td>\n      <td>0.0</td>\n      <td>0.0</td>\n      <td>0.0</td>\n      <td>0.0</td>\n      <td>0.0</td>\n      <td>0.0</td>\n      <td>0.0</td>\n      <td>1.0</td>\n      <td>0.0</td>\n      <td>0.0</td>\n      <td>0.0</td>\n      <td>0.0</td>\n      <td>0.0</td>\n      <td>0.0</td>\n      <td>0.0</td>\n      <td>0.0</td>\n      <td>0.0</td>\n      <td>0.0</td>\n      <td>0.0</td>\n      <td>0.0</td>\n      <td>0.0</td>\n      <td>0.0</td>\n      <td>0.0</td>\n      <td>0.0</td>\n      <td>0.0</td>\n      <td>0.0</td>\n      <td>0.0</td>\n      <td>0.0</td>\n      <td>0.0</td>\n      <td>0.0</td>\n      <td>0.0</td>\n      <td>0.0</td>\n      <td>0.0</td>\n      <td>0.0</td>\n      <td>0.0</td>\n      <td>0.0</td>\n      <td>0.0</td>\n    </tr>\n    <tr>\n      <th>75</th>\n      <td>0.0</td>\n      <td>0.0</td>\n      <td>0.0</td>\n      <td>0.0</td>\n      <td>0.0</td>\n      <td>0.0</td>\n      <td>0.0</td>\n      <td>0.0</td>\n      <td>0.0</td>\n      <td>0.0</td>\n      <td>0.0</td>\n      <td>0.0</td>\n      <td>0.0</td>\n      <td>0.0</td>\n      <td>0.0</td>\n      <td>0.0</td>\n      <td>0.0</td>\n      <td>0.0</td>\n      <td>0.0</td>\n      <td>0.0</td>\n      <td>0.0</td>\n      <td>1.0</td>\n      <td>0.0</td>\n      <td>0.0</td>\n      <td>0.0</td>\n      <td>0.0</td>\n      <td>0.0</td>\n      <td>0.0</td>\n      <td>0.0</td>\n      <td>0.0</td>\n      <td>0.0</td>\n      <td>0.0</td>\n      <td>0.0</td>\n      <td>0.0</td>\n      <td>0.0</td>\n      <td>0.0</td>\n      <td>0.0</td>\n      <td>0.0</td>\n      <td>0.0</td>\n      <td>0.0</td>\n      <td>0.0</td>\n      <td>0.0</td>\n    </tr>\n    <tr>\n      <th>76</th>\n      <td>0.0</td>\n      <td>0.0</td>\n      <td>0.0</td>\n      <td>0.0</td>\n      <td>0.0</td>\n      <td>0.0</td>\n      <td>0.0</td>\n      <td>0.0</td>\n      <td>0.0</td>\n      <td>1.0</td>\n      <td>0.0</td>\n      <td>0.0</td>\n      <td>0.0</td>\n      <td>0.0</td>\n      <td>0.0</td>\n      <td>0.0</td>\n      <td>0.0</td>\n      <td>0.0</td>\n      <td>0.0</td>\n      <td>0.0</td>\n      <td>0.0</td>\n      <td>0.0</td>\n      <td>0.0</td>\n      <td>0.0</td>\n      <td>0.0</td>\n      <td>0.0</td>\n      <td>0.0</td>\n      <td>0.0</td>\n      <td>0.0</td>\n      <td>0.0</td>\n      <td>0.0</td>\n      <td>0.0</td>\n      <td>0.0</td>\n      <td>0.0</td>\n      <td>0.0</td>\n      <td>0.0</td>\n      <td>0.0</td>\n      <td>0.0</td>\n      <td>0.0</td>\n      <td>0.0</td>\n      <td>0.0</td>\n      <td>0.0</td>\n    </tr>\n    <tr>\n      <th>77</th>\n      <td>0.0</td>\n      <td>0.0</td>\n      <td>1.0</td>\n      <td>0.0</td>\n      <td>0.0</td>\n      <td>0.0</td>\n      <td>0.0</td>\n      <td>0.0</td>\n      <td>0.0</td>\n      <td>0.0</td>\n      <td>0.0</td>\n      <td>0.0</td>\n      <td>0.0</td>\n      <td>0.0</td>\n      <td>0.0</td>\n      <td>0.0</td>\n      <td>0.0</td>\n      <td>0.0</td>\n      <td>0.0</td>\n      <td>0.0</td>\n      <td>0.0</td>\n      <td>0.0</td>\n      <td>0.0</td>\n      <td>0.0</td>\n      <td>0.0</td>\n      <td>0.0</td>\n      <td>0.0</td>\n      <td>0.0</td>\n      <td>0.0</td>\n      <td>0.0</td>\n      <td>0.0</td>\n      <td>0.0</td>\n      <td>0.0</td>\n      <td>0.0</td>\n      <td>0.0</td>\n      <td>0.0</td>\n      <td>0.0</td>\n      <td>0.0</td>\n      <td>0.0</td>\n      <td>0.0</td>\n      <td>0.0</td>\n      <td>0.0</td>\n    </tr>\n    <tr>\n      <th>78</th>\n      <td>0.0</td>\n      <td>0.0</td>\n      <td>0.0</td>\n      <td>0.0</td>\n      <td>0.0</td>\n      <td>0.0</td>\n      <td>0.0</td>\n      <td>0.0</td>\n      <td>0.0</td>\n      <td>0.0</td>\n      <td>0.0</td>\n      <td>0.0</td>\n      <td>0.0</td>\n      <td>0.0</td>\n      <td>1.0</td>\n      <td>0.0</td>\n      <td>0.0</td>\n      <td>0.0</td>\n      <td>0.0</td>\n      <td>0.0</td>\n      <td>0.0</td>\n      <td>0.0</td>\n      <td>0.0</td>\n      <td>0.0</td>\n      <td>0.0</td>\n      <td>0.0</td>\n      <td>0.0</td>\n      <td>0.0</td>\n      <td>0.0</td>\n      <td>0.0</td>\n      <td>0.0</td>\n      <td>0.0</td>\n      <td>0.0</td>\n      <td>0.0</td>\n      <td>0.0</td>\n      <td>0.0</td>\n      <td>0.0</td>\n      <td>0.0</td>\n      <td>0.0</td>\n      <td>0.0</td>\n      <td>0.0</td>\n      <td>0.0</td>\n    </tr>\n  </tbody>\n</table>\n<p>79 rows × 42 columns</p>\n</div>"
     },
     "metadata": {},
     "output_type": "display_data"
    },
    {
     "data": {
      "text/plain": "0     3.0\n1     4.0\n2     3.0\n3     5.0\n4     2.0\n     ... \n74    1.0\n75    1.0\n76    1.0\n77    1.0\n78    1.0\nName: num_of_interactions, Length: 79, dtype: float64"
     },
     "metadata": {},
     "output_type": "display_data"
    },
    {
     "data": {
      "text/plain": "                     user_id                   item_id  rating  search  \\\n2   629f5bee10456c7cbc3af712  62b4391cd7995d801996d75f     0.0     1.0   \n3   629f5bee10456c7cbc3af712  62b4407ddd971448a4beeaeb     3.0     1.0   \n14  62ab1fb3fd2e7fbd58da41d3  62b4391cd7995d801996d75f     4.0     1.0   \n50  62ab1b5cfd2e7fbd58da41cf  62b4407ddd971448a4beeaeb     0.0     1.0   \n\n    favourite  wishlist                             name    kind     type  \\\n2         1.0       1.0                          Jameson  whisky  blended   \n3         1.0       0.0  Jameson Caskmates Stout Edition  whisky  blended   \n14        0.0       0.0                          Jameson  whisky  blended   \n50        0.0       0.0  Jameson Caskmates Stout Edition  whisky  blended   \n\n    alcohol_by_volume     color      manufacturer   country region  \\\n2                40.0  bursztyn  Irish Distillers  Irlandia   Cork   \n3                40.0    karmel  Irish Distillers  Irlandia   Cork   \n14               40.0  bursztyn  Irish Distillers  Irlandia   Cork   \n50               40.0    karmel  Irish Distillers  Irlandia   Cork   \n\n    num_of_interactions  cydr_musujący  likier_mleczny  likier_owocowy  \\\n2                   3.0            0.0             0.0             0.0   \n3                   5.0            0.0             0.0             0.0   \n14                  5.0            0.0             0.0             0.0   \n50                  1.0            0.0             0.0             0.0   \n\n    likier_ziołowy  piwo_aipa  piwo_american ipa  piwo_american pale ale  \\\n2              0.0        0.0                0.0                     0.0   \n3              0.0        0.0                0.0                     0.0   \n14             0.0        0.0                0.0                     0.0   \n50             0.0        0.0                0.0                     0.0   \n\n    piwo_apa  piwo_baltic porter  piwo_black ipa  ...  user_piwo_milk stout  \\\n2        0.0                 0.0             0.0  ...                   0.0   \n3        0.0                 0.0             0.0  ...                   0.0   \n14       0.0                 0.0             0.0  ...                   0.0   \n50       0.0                 0.0             0.0  ...                   0.0   \n\n    user_piwo_non-alcoholic witbier  user_piwo_pale lager  user_piwo_pils  \\\n2                          0.000000              0.047619        0.000000   \n3                          0.000000              0.047619        0.000000   \n14                         0.000000              0.000000        0.045455   \n50                         0.066667              0.000000        0.000000   \n\n    user_piwo_pilsner  user_piwo_porter  user_piwo_smoked imperial stout  \\\n2                 0.0               0.0                              0.0   \n3                 0.0               0.0                              0.0   \n14                0.0               0.0                              0.0   \n50                0.0               0.0                              0.0   \n\n    user_piwo_smoked white ipa  user_piwo_sour ale  user_piwo_specialty beer  \\\n2                     0.000000                 0.0                  0.142857   \n3                     0.000000                 0.0                  0.142857   \n14                    0.000000                 0.0                  0.000000   \n50                    0.133333                 0.0                  0.000000   \n\n    user_piwo_stout  user_piwo_strong lager  user_piwo_světlý ležák  \\\n2               0.0                0.000000                0.000000   \n3               0.0                0.000000                0.000000   \n14              0.0                0.068182                0.045455   \n50              0.0                0.000000                0.000000   \n\n    user_piwo_weissbier  user_piwo_witbier  user_rum_biały  user_rum_czarny  \\\n2              0.000000           0.047619        0.000000         0.000000   \n3              0.000000           0.047619        0.000000         0.000000   \n14             0.022727           0.000000        0.045455         0.068182   \n50             0.000000           0.066667        0.000000         0.000000   \n\n    user_rum_złoty  user_tequila_czysta  user_whisky_blended  \\\n2         0.000000             0.047619             0.285714   \n3         0.000000             0.047619             0.285714   \n14        0.113636             0.000000             0.045455   \n50        0.000000             0.000000             0.066667   \n\n    user_whisky_single malt  user_wino_deserowe  user_wino_słodkie  \\\n2                  0.047619                 0.0                0.0   \n3                  0.047619                 0.0                0.0   \n14                 0.022727                 0.0                0.0   \n50                 0.000000                 0.2                0.0   \n\n    user_wino_wytrawne  user_wódka_czysta  \n2             0.000000           0.000000  \n3             0.000000           0.000000  \n14            0.000000           0.068182  \n50            0.133333           0.000000  \n\n[4 rows x 99 columns]",
      "text/html": "<div>\n<style scoped>\n    .dataframe tbody tr th:only-of-type {\n        vertical-align: middle;\n    }\n\n    .dataframe tbody tr th {\n        vertical-align: top;\n    }\n\n    .dataframe thead th {\n        text-align: right;\n    }\n</style>\n<table border=\"1\" class=\"dataframe\">\n  <thead>\n    <tr style=\"text-align: right;\">\n      <th></th>\n      <th>user_id</th>\n      <th>item_id</th>\n      <th>rating</th>\n      <th>search</th>\n      <th>favourite</th>\n      <th>wishlist</th>\n      <th>name</th>\n      <th>kind</th>\n      <th>type</th>\n      <th>alcohol_by_volume</th>\n      <th>color</th>\n      <th>manufacturer</th>\n      <th>country</th>\n      <th>region</th>\n      <th>num_of_interactions</th>\n      <th>cydr_musujący</th>\n      <th>likier_mleczny</th>\n      <th>likier_owocowy</th>\n      <th>likier_ziołowy</th>\n      <th>piwo_aipa</th>\n      <th>piwo_american ipa</th>\n      <th>piwo_american pale ale</th>\n      <th>piwo_apa</th>\n      <th>piwo_baltic porter</th>\n      <th>piwo_black ipa</th>\n      <th>...</th>\n      <th>user_piwo_milk stout</th>\n      <th>user_piwo_non-alcoholic witbier</th>\n      <th>user_piwo_pale lager</th>\n      <th>user_piwo_pils</th>\n      <th>user_piwo_pilsner</th>\n      <th>user_piwo_porter</th>\n      <th>user_piwo_smoked imperial stout</th>\n      <th>user_piwo_smoked white ipa</th>\n      <th>user_piwo_sour ale</th>\n      <th>user_piwo_specialty beer</th>\n      <th>user_piwo_stout</th>\n      <th>user_piwo_strong lager</th>\n      <th>user_piwo_světlý ležák</th>\n      <th>user_piwo_weissbier</th>\n      <th>user_piwo_witbier</th>\n      <th>user_rum_biały</th>\n      <th>user_rum_czarny</th>\n      <th>user_rum_złoty</th>\n      <th>user_tequila_czysta</th>\n      <th>user_whisky_blended</th>\n      <th>user_whisky_single malt</th>\n      <th>user_wino_deserowe</th>\n      <th>user_wino_słodkie</th>\n      <th>user_wino_wytrawne</th>\n      <th>user_wódka_czysta</th>\n    </tr>\n  </thead>\n  <tbody>\n    <tr>\n      <th>2</th>\n      <td>629f5bee10456c7cbc3af712</td>\n      <td>62b4391cd7995d801996d75f</td>\n      <td>0.0</td>\n      <td>1.0</td>\n      <td>1.0</td>\n      <td>1.0</td>\n      <td>Jameson</td>\n      <td>whisky</td>\n      <td>blended</td>\n      <td>40.0</td>\n      <td>bursztyn</td>\n      <td>Irish Distillers</td>\n      <td>Irlandia</td>\n      <td>Cork</td>\n      <td>3.0</td>\n      <td>0.0</td>\n      <td>0.0</td>\n      <td>0.0</td>\n      <td>0.0</td>\n      <td>0.0</td>\n      <td>0.0</td>\n      <td>0.0</td>\n      <td>0.0</td>\n      <td>0.0</td>\n      <td>0.0</td>\n      <td>...</td>\n      <td>0.0</td>\n      <td>0.000000</td>\n      <td>0.047619</td>\n      <td>0.000000</td>\n      <td>0.0</td>\n      <td>0.0</td>\n      <td>0.0</td>\n      <td>0.000000</td>\n      <td>0.0</td>\n      <td>0.142857</td>\n      <td>0.0</td>\n      <td>0.000000</td>\n      <td>0.000000</td>\n      <td>0.000000</td>\n      <td>0.047619</td>\n      <td>0.000000</td>\n      <td>0.000000</td>\n      <td>0.000000</td>\n      <td>0.047619</td>\n      <td>0.285714</td>\n      <td>0.047619</td>\n      <td>0.0</td>\n      <td>0.0</td>\n      <td>0.000000</td>\n      <td>0.000000</td>\n    </tr>\n    <tr>\n      <th>3</th>\n      <td>629f5bee10456c7cbc3af712</td>\n      <td>62b4407ddd971448a4beeaeb</td>\n      <td>3.0</td>\n      <td>1.0</td>\n      <td>1.0</td>\n      <td>0.0</td>\n      <td>Jameson Caskmates Stout Edition</td>\n      <td>whisky</td>\n      <td>blended</td>\n      <td>40.0</td>\n      <td>karmel</td>\n      <td>Irish Distillers</td>\n      <td>Irlandia</td>\n      <td>Cork</td>\n      <td>5.0</td>\n      <td>0.0</td>\n      <td>0.0</td>\n      <td>0.0</td>\n      <td>0.0</td>\n      <td>0.0</td>\n      <td>0.0</td>\n      <td>0.0</td>\n      <td>0.0</td>\n      <td>0.0</td>\n      <td>0.0</td>\n      <td>...</td>\n      <td>0.0</td>\n      <td>0.000000</td>\n      <td>0.047619</td>\n      <td>0.000000</td>\n      <td>0.0</td>\n      <td>0.0</td>\n      <td>0.0</td>\n      <td>0.000000</td>\n      <td>0.0</td>\n      <td>0.142857</td>\n      <td>0.0</td>\n      <td>0.000000</td>\n      <td>0.000000</td>\n      <td>0.000000</td>\n      <td>0.047619</td>\n      <td>0.000000</td>\n      <td>0.000000</td>\n      <td>0.000000</td>\n      <td>0.047619</td>\n      <td>0.285714</td>\n      <td>0.047619</td>\n      <td>0.0</td>\n      <td>0.0</td>\n      <td>0.000000</td>\n      <td>0.000000</td>\n    </tr>\n    <tr>\n      <th>14</th>\n      <td>62ab1fb3fd2e7fbd58da41d3</td>\n      <td>62b4391cd7995d801996d75f</td>\n      <td>4.0</td>\n      <td>1.0</td>\n      <td>0.0</td>\n      <td>0.0</td>\n      <td>Jameson</td>\n      <td>whisky</td>\n      <td>blended</td>\n      <td>40.0</td>\n      <td>bursztyn</td>\n      <td>Irish Distillers</td>\n      <td>Irlandia</td>\n      <td>Cork</td>\n      <td>5.0</td>\n      <td>0.0</td>\n      <td>0.0</td>\n      <td>0.0</td>\n      <td>0.0</td>\n      <td>0.0</td>\n      <td>0.0</td>\n      <td>0.0</td>\n      <td>0.0</td>\n      <td>0.0</td>\n      <td>0.0</td>\n      <td>...</td>\n      <td>0.0</td>\n      <td>0.000000</td>\n      <td>0.000000</td>\n      <td>0.045455</td>\n      <td>0.0</td>\n      <td>0.0</td>\n      <td>0.0</td>\n      <td>0.000000</td>\n      <td>0.0</td>\n      <td>0.000000</td>\n      <td>0.0</td>\n      <td>0.068182</td>\n      <td>0.045455</td>\n      <td>0.022727</td>\n      <td>0.000000</td>\n      <td>0.045455</td>\n      <td>0.068182</td>\n      <td>0.113636</td>\n      <td>0.000000</td>\n      <td>0.045455</td>\n      <td>0.022727</td>\n      <td>0.0</td>\n      <td>0.0</td>\n      <td>0.000000</td>\n      <td>0.068182</td>\n    </tr>\n    <tr>\n      <th>50</th>\n      <td>62ab1b5cfd2e7fbd58da41cf</td>\n      <td>62b4407ddd971448a4beeaeb</td>\n      <td>0.0</td>\n      <td>1.0</td>\n      <td>0.0</td>\n      <td>0.0</td>\n      <td>Jameson Caskmates Stout Edition</td>\n      <td>whisky</td>\n      <td>blended</td>\n      <td>40.0</td>\n      <td>karmel</td>\n      <td>Irish Distillers</td>\n      <td>Irlandia</td>\n      <td>Cork</td>\n      <td>1.0</td>\n      <td>0.0</td>\n      <td>0.0</td>\n      <td>0.0</td>\n      <td>0.0</td>\n      <td>0.0</td>\n      <td>0.0</td>\n      <td>0.0</td>\n      <td>0.0</td>\n      <td>0.0</td>\n      <td>0.0</td>\n      <td>...</td>\n      <td>0.0</td>\n      <td>0.066667</td>\n      <td>0.000000</td>\n      <td>0.000000</td>\n      <td>0.0</td>\n      <td>0.0</td>\n      <td>0.0</td>\n      <td>0.133333</td>\n      <td>0.0</td>\n      <td>0.000000</td>\n      <td>0.0</td>\n      <td>0.000000</td>\n      <td>0.000000</td>\n      <td>0.000000</td>\n      <td>0.066667</td>\n      <td>0.000000</td>\n      <td>0.000000</td>\n      <td>0.000000</td>\n      <td>0.000000</td>\n      <td>0.066667</td>\n      <td>0.000000</td>\n      <td>0.2</td>\n      <td>0.0</td>\n      <td>0.133333</td>\n      <td>0.000000</td>\n    </tr>\n  </tbody>\n</table>\n<p>4 rows × 99 columns</p>\n</div>"
     },
     "metadata": {},
     "output_type": "display_data"
    },
    {
     "data": {
      "text/plain": "                    user_id                   item_id  rating  search  \\\n5  629f5bee10456c7cbc3af712  6322409d86d1ba39137c5ccc     3.0     1.0   \n\n   favourite  wishlist                    name  kind            type  \\\n5        1.0       0.0  Fortuna Miodowe Ciemne  piwo  specialty beer   \n\n   alcohol_by_volume      color               manufacturer country region  \\\n5                5.6  karmelowy  Browar FORTUNA Sp. z o.o.  Polska    NaN   \n\n   num_of_interactions  cydr_musujący  likier_mleczny  likier_owocowy  \\\n5                  5.0            0.0             0.0             0.0   \n\n   likier_ziołowy  piwo_aipa  piwo_american ipa  piwo_american pale ale  \\\n5             0.0        0.0                0.0                     0.0   \n\n   piwo_apa  piwo_baltic porter  piwo_black ipa  ...  user_piwo_milk stout  \\\n5       0.0                 0.0             0.0  ...                   0.0   \n\n   user_piwo_non-alcoholic witbier  user_piwo_pale lager  user_piwo_pils  \\\n5                              0.0              0.047619             0.0   \n\n   user_piwo_pilsner  user_piwo_porter  user_piwo_smoked imperial stout  \\\n5                0.0               0.0                              0.0   \n\n   user_piwo_smoked white ipa  user_piwo_sour ale  user_piwo_specialty beer  \\\n5                         0.0                 0.0                  0.142857   \n\n   user_piwo_stout  user_piwo_strong lager  user_piwo_světlý ležák  \\\n5              0.0                     0.0                     0.0   \n\n   user_piwo_weissbier  user_piwo_witbier  user_rum_biały  user_rum_czarny  \\\n5                  0.0           0.047619             0.0              0.0   \n\n   user_rum_złoty  user_tequila_czysta  user_whisky_blended  \\\n5             0.0             0.047619             0.285714   \n\n   user_whisky_single malt  user_wino_deserowe  user_wino_słodkie  \\\n5                 0.047619                 0.0                0.0   \n\n   user_wino_wytrawne  user_wódka_czysta  \n5                 0.0                0.0  \n\n[1 rows x 99 columns]",
      "text/html": "<div>\n<style scoped>\n    .dataframe tbody tr th:only-of-type {\n        vertical-align: middle;\n    }\n\n    .dataframe tbody tr th {\n        vertical-align: top;\n    }\n\n    .dataframe thead th {\n        text-align: right;\n    }\n</style>\n<table border=\"1\" class=\"dataframe\">\n  <thead>\n    <tr style=\"text-align: right;\">\n      <th></th>\n      <th>user_id</th>\n      <th>item_id</th>\n      <th>rating</th>\n      <th>search</th>\n      <th>favourite</th>\n      <th>wishlist</th>\n      <th>name</th>\n      <th>kind</th>\n      <th>type</th>\n      <th>alcohol_by_volume</th>\n      <th>color</th>\n      <th>manufacturer</th>\n      <th>country</th>\n      <th>region</th>\n      <th>num_of_interactions</th>\n      <th>cydr_musujący</th>\n      <th>likier_mleczny</th>\n      <th>likier_owocowy</th>\n      <th>likier_ziołowy</th>\n      <th>piwo_aipa</th>\n      <th>piwo_american ipa</th>\n      <th>piwo_american pale ale</th>\n      <th>piwo_apa</th>\n      <th>piwo_baltic porter</th>\n      <th>piwo_black ipa</th>\n      <th>...</th>\n      <th>user_piwo_milk stout</th>\n      <th>user_piwo_non-alcoholic witbier</th>\n      <th>user_piwo_pale lager</th>\n      <th>user_piwo_pils</th>\n      <th>user_piwo_pilsner</th>\n      <th>user_piwo_porter</th>\n      <th>user_piwo_smoked imperial stout</th>\n      <th>user_piwo_smoked white ipa</th>\n      <th>user_piwo_sour ale</th>\n      <th>user_piwo_specialty beer</th>\n      <th>user_piwo_stout</th>\n      <th>user_piwo_strong lager</th>\n      <th>user_piwo_světlý ležák</th>\n      <th>user_piwo_weissbier</th>\n      <th>user_piwo_witbier</th>\n      <th>user_rum_biały</th>\n      <th>user_rum_czarny</th>\n      <th>user_rum_złoty</th>\n      <th>user_tequila_czysta</th>\n      <th>user_whisky_blended</th>\n      <th>user_whisky_single malt</th>\n      <th>user_wino_deserowe</th>\n      <th>user_wino_słodkie</th>\n      <th>user_wino_wytrawne</th>\n      <th>user_wódka_czysta</th>\n    </tr>\n  </thead>\n  <tbody>\n    <tr>\n      <th>5</th>\n      <td>629f5bee10456c7cbc3af712</td>\n      <td>6322409d86d1ba39137c5ccc</td>\n      <td>3.0</td>\n      <td>1.0</td>\n      <td>1.0</td>\n      <td>0.0</td>\n      <td>Fortuna Miodowe Ciemne</td>\n      <td>piwo</td>\n      <td>specialty beer</td>\n      <td>5.6</td>\n      <td>karmelowy</td>\n      <td>Browar FORTUNA Sp. z o.o.</td>\n      <td>Polska</td>\n      <td>NaN</td>\n      <td>5.0</td>\n      <td>0.0</td>\n      <td>0.0</td>\n      <td>0.0</td>\n      <td>0.0</td>\n      <td>0.0</td>\n      <td>0.0</td>\n      <td>0.0</td>\n      <td>0.0</td>\n      <td>0.0</td>\n      <td>0.0</td>\n      <td>...</td>\n      <td>0.0</td>\n      <td>0.0</td>\n      <td>0.047619</td>\n      <td>0.0</td>\n      <td>0.0</td>\n      <td>0.0</td>\n      <td>0.0</td>\n      <td>0.0</td>\n      <td>0.0</td>\n      <td>0.142857</td>\n      <td>0.0</td>\n      <td>0.0</td>\n      <td>0.0</td>\n      <td>0.0</td>\n      <td>0.047619</td>\n      <td>0.0</td>\n      <td>0.0</td>\n      <td>0.0</td>\n      <td>0.047619</td>\n      <td>0.285714</td>\n      <td>0.047619</td>\n      <td>0.0</td>\n      <td>0.0</td>\n      <td>0.0</td>\n      <td>0.0</td>\n    </tr>\n  </tbody>\n</table>\n<p>1 rows × 99 columns</p>\n</div>"
     },
     "metadata": {},
     "output_type": "display_data"
    },
    {
     "data": {
      "text/plain": "array([3., 4., 3., 5., 2., 5., 1., 1., 1., 1., 2., 1., 4., 7., 5., 1., 6.,\n       7., 7., 4., 4., 6., 5., 7., 2., 5., 6., 7., 1., 1., 1., 2., 1., 6.,\n       4., 5., 5., 7., 7., 2., 2., 1., 1., 2., 1., 1., 2., 1., 2., 1., 1.,\n       6., 8., 5., 6., 1., 1., 6., 1., 1., 1., 1., 1., 1., 1., 1., 1., 1.,\n       1., 1., 1., 1., 1., 1., 1., 1., 1., 1., 1.])"
     },
     "metadata": {},
     "output_type": "display_data"
    },
    {
     "name": "stderr",
     "output_type": "stream",
     "text": [
      "C:\\Users\\matrom1\\PycharmProjects\\AlkohoLove-recommender\\venv\\lib\\site-packages\\sklearn\\preprocessing\\_label.py:878: UserWarning: unknown class(es) ['drink_cosmopolitan', 'drink_gin', 'drink_gruszkowy', 'drink_kamikaze', 'drink_margherita', 'drink_mojito', 'gin_destylowany', 'likier_amaretto', 'likier_ananasowy', 'likier_biały', 'likier_brzoskwiniowy', 'likier_caipirinha', 'likier_cytrynowy', 'likier_czekoladowy', 'likier_goldwasser', 'likier_irlandzki', 'likier_jajeczny', 'likier_kawowy', 'likier_kokosowy', 'likier_kremowy', 'likier_miodowy', 'likier_orzechowy', 'likier_owocowa', 'likier_owocowe', 'likier_truskawkowy', 'likier_wiśniowy', 'likier_śmietankowy', 'piwo_ale', 'piwo_amber ale', 'piwo_american barleywine', 'piwo_american weizen', 'piwo_american witbier', 'piwo_apa with lemon and lemongrass', 'piwo_aromatyzowane', 'piwo_asian fruit rice ipa', 'piwo_barley wine', 'piwo_belgian blond ale', 'piwo_belgian golden strong ale', 'piwo_belgian tripel', 'piwo_belgijskie', 'piwo_bohemian pilsner', 'piwo_braggot', 'piwo_calamansi milkshake ipa', 'piwo_ciemne', 'piwo_ddh ipa', 'piwo_double cream hazy ipa', 'piwo_double dry hopped apa', 'piwo_double ipa', 'piwo_dry stout', 'piwo_epa', 'piwo_epa ', 'piwo_freshpresso ale', 'piwo_fruit beer', 'piwo_fruit saison', 'piwo_german pilsner', 'piwo_gose', 'piwo_gose with rhubarb', 'piwo_hazy juicy double ipa', 'piwo_hefe-weizen', 'piwo_hefewiezen', 'piwo_holenderskie piwo ', 'piwo_hoppy lager', 'piwo_imperial baltic porter', 'piwo_imperial graff', 'piwo_imperial ipa', 'piwo_imperial pastry stout', 'piwo_imperial west cost ipa', 'piwo_imperial whisky stout', 'piwo_imperialny porter bałtycki', 'piwo_ipa', 'piwo_irish stout', 'piwo_jasne', 'piwo_kellerbier', 'piwo_klasztorne', 'piwo_koźlak', 'piwo_koźlak tradycyjny', 'piwo_kölsch', 'piwo_lager ', 'piwo_lekkie ', 'piwo_low-alcoholic lager', 'piwo_mastne', 'piwo_miodowe', 'piwo_munich dunkel', 'piwo_napój piwny', 'piwo_new england double ipa', 'piwo_new england ipa', 'piwo_non-alcoholic dark lager', 'piwo_non-alcoholic fruit beer', 'piwo_non-alcoholic ipa', 'piwo_non-alcoholic lager', 'piwo_non-alcoholic radler', 'piwo_non-alcoholic session ipa', 'piwo_oatmeal ddh ipa', 'piwo_odparowany porter bałtycki', 'piwo_owsiane', 'piwo_pale ale', 'piwo_pastry sour ipa', 'piwo_pear pale ale', 'piwo_peated ris-lapsang', 'piwo_pilsener', 'piwo_pilzner', 'piwo_podpiwek', 'piwo_premium lager', 'piwo_przeniczne', 'piwo_pszeniczna ipa', 'piwo_pszeniczne', 'piwo_pszeniczne bawarskie', 'piwo_pumpkin ale', 'piwo_radler', 'piwo_rice double ipa', 'piwo_ris', 'piwo_roggenbier', 'piwo_russian imperial stout', 'piwo_saison', 'piwo_saison ipa', 'piwo_session hazy ipa', 'piwo_session ipa', 'piwo_smakowe', 'piwo_sorachi rice double ipa', 'piwo_sour', 'piwo_sour ipa', 'piwo_spice', 'piwo_strong bitter', 'piwo_strong premium pils', 'piwo_traditional bock', 'piwo_triple hazy ipa', 'piwo_triple sabro oat ipa', 'piwo_tropical ipa', 'piwo_tropical triple ipa', 'piwo_weizen', 'piwo_west coast ipa', 'piwo_whisky extra stout', 'piwo_white ipa', 'rum_owocowy', 'whisky_bourbon', 'whisky_tennessee whiskey', 'wino_półsłodke', 'wino_półsłodki', 'wino_półsłodkie', 'wino_półwytrawne', 'wódka_owocowa', 'wódka_smakowa'] will be ignored\n",
      "  warnings.warn(\n"
     ]
    },
    {
     "data": {
      "text/plain": "3.193051506316812"
     },
     "metadata": {},
     "output_type": "display_data"
    },
    {
     "data": {
      "text/plain": "3.0656381600259155"
     },
     "metadata": {},
     "output_type": "display_data"
    },
    {
     "data": {
      "text/plain": "array([499, 518, 485, 473, 558, 516, 455, 584, 440, 484, 442, 445, 560,\n       561, 441, 444, 443, 567, 123, 111,  42, 106,  43,  54,  55,  57,\n        58, 137,  65,  66,  79,  85,  56,  92,  64, 130, 458, 417, 509,\n       459], dtype=int64)"
     },
     "metadata": {},
     "output_type": "display_data"
    },
    {
     "data": {
      "text/plain": "                     user_id                   item_id     score  \\\n0   629f5bee10456c7cbc3af712  6322409d86d1ba39137c5ccc  3.193052   \n1   629f5bee10456c7cbc3af712  6328e13cf840cb9bd8185149  3.193052   \n2   629f5bee10456c7cbc3af712  631bb23c000c24db49dd5b55  3.193052   \n3   629f5bee10456c7cbc3af712  6318cce3c702798f8682375d  3.193052   \n4   629f5bee10456c7cbc3af712  634be860d64e597caf8e395d  3.193052   \n5   629f5bee10456c7cbc3af712  6328df56f840cb9bd8185147  3.193052   \n6   629f5bee10456c7cbc3af712  630d14899b0fa74888cb9eb8  3.193052   \n7   629f5bee10456c7cbc3af712  634c092fd53de905ed3963ae  3.193052   \n8   629f5bee10456c7cbc3af712  630286922c8204566bc5bfda  3.193052   \n9   629f5bee10456c7cbc3af712  631bb13c000c24db49dd5b54  3.193052   \n10  629f5bee10456c7cbc3af712  63028d9503edd62c61da384b  3.193052   \n11  629f5bee10456c7cbc3af712  63028f7d2c8204566bc5bfdc  3.193052   \n12  629f5bee10456c7cbc3af712  634bec19d53de905ed39639b  3.193052   \n13  629f5bee10456c7cbc3af712  634bed37d64e597caf8e395e  3.193052   \n14  629f5bee10456c7cbc3af712  630288f803edd62c61da3849  3.193052   \n15  629f5bee10456c7cbc3af712  63028ef12c8204566bc5bfdb  3.193052   \n16  629f5bee10456c7cbc3af712  63028e7203edd62c61da384c  3.193052   \n17  629f5bee10456c7cbc3af712  634bfcf1d53de905ed39639f  3.193052   \n18  629f5bee10456c7cbc3af712  62b4b90b7c93cafdd7d0947d  3.065638   \n19  629f5bee10456c7cbc3af712  62b4b5357c93cafdd7d09474  3.065638   \n20  629f5bee10456c7cbc3af712  62b4391cd7995d801996d75f  3.065638   \n21  629f5bee10456c7cbc3af712  62b4b3b17c93cafdd7d09470  3.065638   \n22  629f5bee10456c7cbc3af712  62b4407ddd971448a4beeaeb  3.065638   \n23  629f5bee10456c7cbc3af712  62b47db4aa6a49ac4e1bd3f6  3.065638   \n24  629f5bee10456c7cbc3af712  62b48012c01face304ddea66  3.065638   \n25  629f5bee10456c7cbc3af712  62b4854ac01face304ddea68  3.065638   \n26  629f5bee10456c7cbc3af712  62b487c8c01face304ddea69  3.065638   \n27  629f5bee10456c7cbc3af712  62b4c58b7c93cafdd7d09487  3.065638   \n28  629f5bee10456c7cbc3af712  62b491167c93cafdd7d0944d  3.065638   \n29  629f5bee10456c7cbc3af712  62b493935aff740017de6857  3.065638   \n30  629f5bee10456c7cbc3af712  62b49cf07c93cafdd7d0945b  3.065638   \n31  629f5bee10456c7cbc3af712  62b49f965aff740017de6864  3.065638   \n32  629f5bee10456c7cbc3af712  62b48352c01face304ddea67  3.065638   \n33  629f5bee10456c7cbc3af712  62b4a63c7c93cafdd7d09461  3.065638   \n34  629f5bee10456c7cbc3af712  62b48b185aff740017de6856  3.065638   \n35  629f5bee10456c7cbc3af712  62b4be477c93cafdd7d09483  3.065638   \n36  629f5bee10456c7cbc3af712  630e64312fc2b8a1a5a2d6d5  2.903844   \n37  629f5bee10456c7cbc3af712  62f81be0eefbeabcae51113f  2.903844   \n38  629f5bee10456c7cbc3af712  6326499a252267784d73cd77  2.903844   \n39  629f5bee10456c7cbc3af712  630faf68f66a3c75cefe0c90  2.903844   \n\n                                  name    kind            type  \\\n0               Fortuna Miodowe Ciemne    piwo  specialty beer   \n1                 Trybunalskie Miodowe    piwo  specialty beer   \n2                        Cortes Rosado    piwo  specialty beer   \n3                      Desperados Lime    piwo  specialty beer   \n4                   Lubuskie i Tequila    piwo  specialty beer   \n5                        Perła Miodowa    piwo  specialty beer   \n6                       Cortes Tequila    piwo  specialty beer   \n7                     Lubuskie Zielone    piwo  specialty beer   \n8                           Desperados    piwo  specialty beer   \n9                        Cortes Muscat    piwo  specialty beer   \n10                      Desperados Red    piwo  specialty beer   \n11       Desperados Tropical Twist 0.0    piwo  specialty beer   \n12                Lubuskie Czekoladowe    piwo  specialty beer   \n13  Lubuskie Imbirowe Miodowo-Malinowe    piwo  specialty beer   \n14                   Desperados Mojito    piwo  specialty beer   \n15               Desperados Exotic Rum    piwo  specialty beer   \n16              Desperados Whisky Sour    piwo  specialty beer   \n17              Lubuskie Miodowe Jasne    piwo  specialty beer   \n18                     Bell's Original  whisky         blended   \n19                Bushmills Black Bush  whisky         blended   \n20                             Jameson  whisky         blended   \n21              The Bushmills Original  whisky         blended   \n22     Jameson Caskmates Stout Edition  whisky         blended   \n23          Johnnie Walker Black Label  whisky         blended   \n24            Johnnie Walker Red Label  whisky         blended   \n25           Johnnie Walker Blue Label  whisky         blended   \n26          Johnnie Walker Green Label  whisky         blended   \n27                     Passport Scotch  whisky         blended   \n28                 Ballantine's Finest  whisky         blended   \n29                     Monkey Shoulder  whisky         blended   \n30                    Tullamore D.E.W.  whisky         blended   \n31                   Chivas Regal 12yo  whisky         blended   \n32   Johnnie Walker Gold Label Reserve  whisky         blended   \n33                   Proper No. Twelve  whisky         blended   \n34                   Ballantine's 12yo  whisky         blended   \n35               Blended whisky Akashi  whisky         blended   \n36                         Brok Sambor    piwo           lager   \n37                          Bojan Kiwi    piwo           lager   \n38                    Miłosław Marcowe    piwo           lager   \n39                Braniewo Jasne Pełne    piwo           lager   \n\n    alcohol_by_volume             color                    manufacturer  \\\n0                 5.6         karmelowy       Browar FORTUNA Sp. z o.o.   \n1                 6.0             złoty  Perła - Browary Lubelskie S.A.   \n2                 4.5            różowy                     Van Pur SA.   \n3                 3.0             jasne               Grupa Żywiec S.A.   \n4                 4.9             jasne                  Browar Witnica   \n5                 5.4       bursztynowy  Perła - Browary Lubelskie S.A.   \n6                 6.0          słomkowy                  browar Van Pur   \n7                 4.2           zielony                  Browar Witnica   \n8                 6.0             jasne               Grupa Żywiec S.A.   \n9                 4.5             jasny                    Van Pur S.A.   \n10                6.0             jasne               Grupa Żywiec S.A.   \n11                0.0             jasne               Grupa Żywiec S.A.   \n12                4.2           brązowe                  Browar Witnica   \n13                4.2       bursztynowe                  Browar Witnica   \n14                6.0             jasne               Grupa Żywiec S.A.   \n15                4.5             jasne               Grupa Żywiec S.A.   \n16                7.0             jasne               Grupa Żywiec S.A.   \n17                4.2  jasnobursztynowy                  Browar Witnica   \n18               40.0             miedź                          Diageo   \n19               40.0          bursztyn        Old Bushmills Distillery   \n20               40.0          bursztyn                Irish Distillers   \n21               40.0          bursztyn        Old Bushmills Distillery   \n22               40.0            karmel                Irish Distillers   \n23               40.0             miedź                          Diageo   \n24               40.0             miedź                          Diageo   \n25               40.0             miedź                          Diageo   \n26               43.0             miedź                          Diageo   \n27               40.0          bursztyn                   Pernod Ricard   \n28               40.0        jasnozłoty                   Pernod Ricard   \n29               40.0          bursztyn          William Grant and Sons   \n30               40.0          bursztyn          William Grant and Sons   \n31               40.0          bursztyn                 Chivas Brothers   \n32               40.0             miedź                          Diageo   \n33               40.0          bursztyn        Old Bushmills Distillery   \n34               40.0             złoty                   Pernod Ricard   \n35               40.0          bursztyn                 Eigashima Shuzo   \n36                6.0             złoty                    Van Pur S.A.   \n37                4.2             złoty                 Browar Bojanowo   \n38                6.0       bursztynowy       Browar FORTUNA Sp. z o.o.   \n39                5.8       bursztynowy                 Browar Namysłów   \n\n     country            region  \n0     Polska               NaN  \n1     Polska               NaN  \n2     Polska               NaN  \n3     Polska               NaN  \n4     Polska          Lubuskie  \n5     Polska               NaN  \n6     Polska               NaN  \n7     Polska          Lubuskie  \n8     Polska               NaN  \n9     Polska               NaN  \n10    Polska               NaN  \n11    Polska               NaN  \n12    Polska          Lubuskie  \n13    Polska          Lubuskie  \n14    Polska               NaN  \n15    Polska               NaN  \n16    Polska               NaN  \n17    Polska          Lubuskie  \n18   Szkocja             Moray  \n19  Irlandia            Antrim  \n20  Irlandia              Cork  \n21  Irlandia            Antrim  \n22  Irlandia              Cork  \n23   Szkocja        Kilmarnock  \n24   Szkocja        Kilmarnock  \n25   Szkocja        Kilmarnock  \n26   Szkocja        Kilmarnock  \n27   Szkocja               NaN  \n28   Szkocja         Dumbarton  \n29   Szkocja             Moray  \n30  Irlandia         Tullamore  \n31   Szkocja             Moray  \n32   Szkocja        Kilmarnock  \n33  Irlandia            Antrim  \n34   Szkocja         Dumbarton  \n35   Japonia  Prefektura Hyōgo  \n36    Polska               NaN  \n37    Polska               NaN  \n38    Polska               NaN  \n39    Polska               NaN  ",
      "text/html": "<div>\n<style scoped>\n    .dataframe tbody tr th:only-of-type {\n        vertical-align: middle;\n    }\n\n    .dataframe tbody tr th {\n        vertical-align: top;\n    }\n\n    .dataframe thead th {\n        text-align: right;\n    }\n</style>\n<table border=\"1\" class=\"dataframe\">\n  <thead>\n    <tr style=\"text-align: right;\">\n      <th></th>\n      <th>user_id</th>\n      <th>item_id</th>\n      <th>score</th>\n      <th>name</th>\n      <th>kind</th>\n      <th>type</th>\n      <th>alcohol_by_volume</th>\n      <th>color</th>\n      <th>manufacturer</th>\n      <th>country</th>\n      <th>region</th>\n    </tr>\n  </thead>\n  <tbody>\n    <tr>\n      <th>0</th>\n      <td>629f5bee10456c7cbc3af712</td>\n      <td>6322409d86d1ba39137c5ccc</td>\n      <td>3.193052</td>\n      <td>Fortuna Miodowe Ciemne</td>\n      <td>piwo</td>\n      <td>specialty beer</td>\n      <td>5.6</td>\n      <td>karmelowy</td>\n      <td>Browar FORTUNA Sp. z o.o.</td>\n      <td>Polska</td>\n      <td>NaN</td>\n    </tr>\n    <tr>\n      <th>1</th>\n      <td>629f5bee10456c7cbc3af712</td>\n      <td>6328e13cf840cb9bd8185149</td>\n      <td>3.193052</td>\n      <td>Trybunalskie Miodowe</td>\n      <td>piwo</td>\n      <td>specialty beer</td>\n      <td>6.0</td>\n      <td>złoty</td>\n      <td>Perła - Browary Lubelskie S.A.</td>\n      <td>Polska</td>\n      <td>NaN</td>\n    </tr>\n    <tr>\n      <th>2</th>\n      <td>629f5bee10456c7cbc3af712</td>\n      <td>631bb23c000c24db49dd5b55</td>\n      <td>3.193052</td>\n      <td>Cortes Rosado</td>\n      <td>piwo</td>\n      <td>specialty beer</td>\n      <td>4.5</td>\n      <td>różowy</td>\n      <td>Van Pur SA.</td>\n      <td>Polska</td>\n      <td>NaN</td>\n    </tr>\n    <tr>\n      <th>3</th>\n      <td>629f5bee10456c7cbc3af712</td>\n      <td>6318cce3c702798f8682375d</td>\n      <td>3.193052</td>\n      <td>Desperados Lime</td>\n      <td>piwo</td>\n      <td>specialty beer</td>\n      <td>3.0</td>\n      <td>jasne</td>\n      <td>Grupa Żywiec S.A.</td>\n      <td>Polska</td>\n      <td>NaN</td>\n    </tr>\n    <tr>\n      <th>4</th>\n      <td>629f5bee10456c7cbc3af712</td>\n      <td>634be860d64e597caf8e395d</td>\n      <td>3.193052</td>\n      <td>Lubuskie i Tequila</td>\n      <td>piwo</td>\n      <td>specialty beer</td>\n      <td>4.9</td>\n      <td>jasne</td>\n      <td>Browar Witnica</td>\n      <td>Polska</td>\n      <td>Lubuskie</td>\n    </tr>\n    <tr>\n      <th>5</th>\n      <td>629f5bee10456c7cbc3af712</td>\n      <td>6328df56f840cb9bd8185147</td>\n      <td>3.193052</td>\n      <td>Perła Miodowa</td>\n      <td>piwo</td>\n      <td>specialty beer</td>\n      <td>5.4</td>\n      <td>bursztynowy</td>\n      <td>Perła - Browary Lubelskie S.A.</td>\n      <td>Polska</td>\n      <td>NaN</td>\n    </tr>\n    <tr>\n      <th>6</th>\n      <td>629f5bee10456c7cbc3af712</td>\n      <td>630d14899b0fa74888cb9eb8</td>\n      <td>3.193052</td>\n      <td>Cortes Tequila</td>\n      <td>piwo</td>\n      <td>specialty beer</td>\n      <td>6.0</td>\n      <td>słomkowy</td>\n      <td>browar Van Pur</td>\n      <td>Polska</td>\n      <td>NaN</td>\n    </tr>\n    <tr>\n      <th>7</th>\n      <td>629f5bee10456c7cbc3af712</td>\n      <td>634c092fd53de905ed3963ae</td>\n      <td>3.193052</td>\n      <td>Lubuskie Zielone</td>\n      <td>piwo</td>\n      <td>specialty beer</td>\n      <td>4.2</td>\n      <td>zielony</td>\n      <td>Browar Witnica</td>\n      <td>Polska</td>\n      <td>Lubuskie</td>\n    </tr>\n    <tr>\n      <th>8</th>\n      <td>629f5bee10456c7cbc3af712</td>\n      <td>630286922c8204566bc5bfda</td>\n      <td>3.193052</td>\n      <td>Desperados</td>\n      <td>piwo</td>\n      <td>specialty beer</td>\n      <td>6.0</td>\n      <td>jasne</td>\n      <td>Grupa Żywiec S.A.</td>\n      <td>Polska</td>\n      <td>NaN</td>\n    </tr>\n    <tr>\n      <th>9</th>\n      <td>629f5bee10456c7cbc3af712</td>\n      <td>631bb13c000c24db49dd5b54</td>\n      <td>3.193052</td>\n      <td>Cortes Muscat</td>\n      <td>piwo</td>\n      <td>specialty beer</td>\n      <td>4.5</td>\n      <td>jasny</td>\n      <td>Van Pur S.A.</td>\n      <td>Polska</td>\n      <td>NaN</td>\n    </tr>\n    <tr>\n      <th>10</th>\n      <td>629f5bee10456c7cbc3af712</td>\n      <td>63028d9503edd62c61da384b</td>\n      <td>3.193052</td>\n      <td>Desperados Red</td>\n      <td>piwo</td>\n      <td>specialty beer</td>\n      <td>6.0</td>\n      <td>jasne</td>\n      <td>Grupa Żywiec S.A.</td>\n      <td>Polska</td>\n      <td>NaN</td>\n    </tr>\n    <tr>\n      <th>11</th>\n      <td>629f5bee10456c7cbc3af712</td>\n      <td>63028f7d2c8204566bc5bfdc</td>\n      <td>3.193052</td>\n      <td>Desperados Tropical Twist 0.0</td>\n      <td>piwo</td>\n      <td>specialty beer</td>\n      <td>0.0</td>\n      <td>jasne</td>\n      <td>Grupa Żywiec S.A.</td>\n      <td>Polska</td>\n      <td>NaN</td>\n    </tr>\n    <tr>\n      <th>12</th>\n      <td>629f5bee10456c7cbc3af712</td>\n      <td>634bec19d53de905ed39639b</td>\n      <td>3.193052</td>\n      <td>Lubuskie Czekoladowe</td>\n      <td>piwo</td>\n      <td>specialty beer</td>\n      <td>4.2</td>\n      <td>brązowe</td>\n      <td>Browar Witnica</td>\n      <td>Polska</td>\n      <td>Lubuskie</td>\n    </tr>\n    <tr>\n      <th>13</th>\n      <td>629f5bee10456c7cbc3af712</td>\n      <td>634bed37d64e597caf8e395e</td>\n      <td>3.193052</td>\n      <td>Lubuskie Imbirowe Miodowo-Malinowe</td>\n      <td>piwo</td>\n      <td>specialty beer</td>\n      <td>4.2</td>\n      <td>bursztynowe</td>\n      <td>Browar Witnica</td>\n      <td>Polska</td>\n      <td>Lubuskie</td>\n    </tr>\n    <tr>\n      <th>14</th>\n      <td>629f5bee10456c7cbc3af712</td>\n      <td>630288f803edd62c61da3849</td>\n      <td>3.193052</td>\n      <td>Desperados Mojito</td>\n      <td>piwo</td>\n      <td>specialty beer</td>\n      <td>6.0</td>\n      <td>jasne</td>\n      <td>Grupa Żywiec S.A.</td>\n      <td>Polska</td>\n      <td>NaN</td>\n    </tr>\n    <tr>\n      <th>15</th>\n      <td>629f5bee10456c7cbc3af712</td>\n      <td>63028ef12c8204566bc5bfdb</td>\n      <td>3.193052</td>\n      <td>Desperados Exotic Rum</td>\n      <td>piwo</td>\n      <td>specialty beer</td>\n      <td>4.5</td>\n      <td>jasne</td>\n      <td>Grupa Żywiec S.A.</td>\n      <td>Polska</td>\n      <td>NaN</td>\n    </tr>\n    <tr>\n      <th>16</th>\n      <td>629f5bee10456c7cbc3af712</td>\n      <td>63028e7203edd62c61da384c</td>\n      <td>3.193052</td>\n      <td>Desperados Whisky Sour</td>\n      <td>piwo</td>\n      <td>specialty beer</td>\n      <td>7.0</td>\n      <td>jasne</td>\n      <td>Grupa Żywiec S.A.</td>\n      <td>Polska</td>\n      <td>NaN</td>\n    </tr>\n    <tr>\n      <th>17</th>\n      <td>629f5bee10456c7cbc3af712</td>\n      <td>634bfcf1d53de905ed39639f</td>\n      <td>3.193052</td>\n      <td>Lubuskie Miodowe Jasne</td>\n      <td>piwo</td>\n      <td>specialty beer</td>\n      <td>4.2</td>\n      <td>jasnobursztynowy</td>\n      <td>Browar Witnica</td>\n      <td>Polska</td>\n      <td>Lubuskie</td>\n    </tr>\n    <tr>\n      <th>18</th>\n      <td>629f5bee10456c7cbc3af712</td>\n      <td>62b4b90b7c93cafdd7d0947d</td>\n      <td>3.065638</td>\n      <td>Bell's Original</td>\n      <td>whisky</td>\n      <td>blended</td>\n      <td>40.0</td>\n      <td>miedź</td>\n      <td>Diageo</td>\n      <td>Szkocja</td>\n      <td>Moray</td>\n    </tr>\n    <tr>\n      <th>19</th>\n      <td>629f5bee10456c7cbc3af712</td>\n      <td>62b4b5357c93cafdd7d09474</td>\n      <td>3.065638</td>\n      <td>Bushmills Black Bush</td>\n      <td>whisky</td>\n      <td>blended</td>\n      <td>40.0</td>\n      <td>bursztyn</td>\n      <td>Old Bushmills Distillery</td>\n      <td>Irlandia</td>\n      <td>Antrim</td>\n    </tr>\n    <tr>\n      <th>20</th>\n      <td>629f5bee10456c7cbc3af712</td>\n      <td>62b4391cd7995d801996d75f</td>\n      <td>3.065638</td>\n      <td>Jameson</td>\n      <td>whisky</td>\n      <td>blended</td>\n      <td>40.0</td>\n      <td>bursztyn</td>\n      <td>Irish Distillers</td>\n      <td>Irlandia</td>\n      <td>Cork</td>\n    </tr>\n    <tr>\n      <th>21</th>\n      <td>629f5bee10456c7cbc3af712</td>\n      <td>62b4b3b17c93cafdd7d09470</td>\n      <td>3.065638</td>\n      <td>The Bushmills Original</td>\n      <td>whisky</td>\n      <td>blended</td>\n      <td>40.0</td>\n      <td>bursztyn</td>\n      <td>Old Bushmills Distillery</td>\n      <td>Irlandia</td>\n      <td>Antrim</td>\n    </tr>\n    <tr>\n      <th>22</th>\n      <td>629f5bee10456c7cbc3af712</td>\n      <td>62b4407ddd971448a4beeaeb</td>\n      <td>3.065638</td>\n      <td>Jameson Caskmates Stout Edition</td>\n      <td>whisky</td>\n      <td>blended</td>\n      <td>40.0</td>\n      <td>karmel</td>\n      <td>Irish Distillers</td>\n      <td>Irlandia</td>\n      <td>Cork</td>\n    </tr>\n    <tr>\n      <th>23</th>\n      <td>629f5bee10456c7cbc3af712</td>\n      <td>62b47db4aa6a49ac4e1bd3f6</td>\n      <td>3.065638</td>\n      <td>Johnnie Walker Black Label</td>\n      <td>whisky</td>\n      <td>blended</td>\n      <td>40.0</td>\n      <td>miedź</td>\n      <td>Diageo</td>\n      <td>Szkocja</td>\n      <td>Kilmarnock</td>\n    </tr>\n    <tr>\n      <th>24</th>\n      <td>629f5bee10456c7cbc3af712</td>\n      <td>62b48012c01face304ddea66</td>\n      <td>3.065638</td>\n      <td>Johnnie Walker Red Label</td>\n      <td>whisky</td>\n      <td>blended</td>\n      <td>40.0</td>\n      <td>miedź</td>\n      <td>Diageo</td>\n      <td>Szkocja</td>\n      <td>Kilmarnock</td>\n    </tr>\n    <tr>\n      <th>25</th>\n      <td>629f5bee10456c7cbc3af712</td>\n      <td>62b4854ac01face304ddea68</td>\n      <td>3.065638</td>\n      <td>Johnnie Walker Blue Label</td>\n      <td>whisky</td>\n      <td>blended</td>\n      <td>40.0</td>\n      <td>miedź</td>\n      <td>Diageo</td>\n      <td>Szkocja</td>\n      <td>Kilmarnock</td>\n    </tr>\n    <tr>\n      <th>26</th>\n      <td>629f5bee10456c7cbc3af712</td>\n      <td>62b487c8c01face304ddea69</td>\n      <td>3.065638</td>\n      <td>Johnnie Walker Green Label</td>\n      <td>whisky</td>\n      <td>blended</td>\n      <td>43.0</td>\n      <td>miedź</td>\n      <td>Diageo</td>\n      <td>Szkocja</td>\n      <td>Kilmarnock</td>\n    </tr>\n    <tr>\n      <th>27</th>\n      <td>629f5bee10456c7cbc3af712</td>\n      <td>62b4c58b7c93cafdd7d09487</td>\n      <td>3.065638</td>\n      <td>Passport Scotch</td>\n      <td>whisky</td>\n      <td>blended</td>\n      <td>40.0</td>\n      <td>bursztyn</td>\n      <td>Pernod Ricard</td>\n      <td>Szkocja</td>\n      <td>NaN</td>\n    </tr>\n    <tr>\n      <th>28</th>\n      <td>629f5bee10456c7cbc3af712</td>\n      <td>62b491167c93cafdd7d0944d</td>\n      <td>3.065638</td>\n      <td>Ballantine's Finest</td>\n      <td>whisky</td>\n      <td>blended</td>\n      <td>40.0</td>\n      <td>jasnozłoty</td>\n      <td>Pernod Ricard</td>\n      <td>Szkocja</td>\n      <td>Dumbarton</td>\n    </tr>\n    <tr>\n      <th>29</th>\n      <td>629f5bee10456c7cbc3af712</td>\n      <td>62b493935aff740017de6857</td>\n      <td>3.065638</td>\n      <td>Monkey Shoulder</td>\n      <td>whisky</td>\n      <td>blended</td>\n      <td>40.0</td>\n      <td>bursztyn</td>\n      <td>William Grant and Sons</td>\n      <td>Szkocja</td>\n      <td>Moray</td>\n    </tr>\n    <tr>\n      <th>30</th>\n      <td>629f5bee10456c7cbc3af712</td>\n      <td>62b49cf07c93cafdd7d0945b</td>\n      <td>3.065638</td>\n      <td>Tullamore D.E.W.</td>\n      <td>whisky</td>\n      <td>blended</td>\n      <td>40.0</td>\n      <td>bursztyn</td>\n      <td>William Grant and Sons</td>\n      <td>Irlandia</td>\n      <td>Tullamore</td>\n    </tr>\n    <tr>\n      <th>31</th>\n      <td>629f5bee10456c7cbc3af712</td>\n      <td>62b49f965aff740017de6864</td>\n      <td>3.065638</td>\n      <td>Chivas Regal 12yo</td>\n      <td>whisky</td>\n      <td>blended</td>\n      <td>40.0</td>\n      <td>bursztyn</td>\n      <td>Chivas Brothers</td>\n      <td>Szkocja</td>\n      <td>Moray</td>\n    </tr>\n    <tr>\n      <th>32</th>\n      <td>629f5bee10456c7cbc3af712</td>\n      <td>62b48352c01face304ddea67</td>\n      <td>3.065638</td>\n      <td>Johnnie Walker Gold Label Reserve</td>\n      <td>whisky</td>\n      <td>blended</td>\n      <td>40.0</td>\n      <td>miedź</td>\n      <td>Diageo</td>\n      <td>Szkocja</td>\n      <td>Kilmarnock</td>\n    </tr>\n    <tr>\n      <th>33</th>\n      <td>629f5bee10456c7cbc3af712</td>\n      <td>62b4a63c7c93cafdd7d09461</td>\n      <td>3.065638</td>\n      <td>Proper No. Twelve</td>\n      <td>whisky</td>\n      <td>blended</td>\n      <td>40.0</td>\n      <td>bursztyn</td>\n      <td>Old Bushmills Distillery</td>\n      <td>Irlandia</td>\n      <td>Antrim</td>\n    </tr>\n    <tr>\n      <th>34</th>\n      <td>629f5bee10456c7cbc3af712</td>\n      <td>62b48b185aff740017de6856</td>\n      <td>3.065638</td>\n      <td>Ballantine's 12yo</td>\n      <td>whisky</td>\n      <td>blended</td>\n      <td>40.0</td>\n      <td>złoty</td>\n      <td>Pernod Ricard</td>\n      <td>Szkocja</td>\n      <td>Dumbarton</td>\n    </tr>\n    <tr>\n      <th>35</th>\n      <td>629f5bee10456c7cbc3af712</td>\n      <td>62b4be477c93cafdd7d09483</td>\n      <td>3.065638</td>\n      <td>Blended whisky Akashi</td>\n      <td>whisky</td>\n      <td>blended</td>\n      <td>40.0</td>\n      <td>bursztyn</td>\n      <td>Eigashima Shuzo</td>\n      <td>Japonia</td>\n      <td>Prefektura Hyōgo</td>\n    </tr>\n    <tr>\n      <th>36</th>\n      <td>629f5bee10456c7cbc3af712</td>\n      <td>630e64312fc2b8a1a5a2d6d5</td>\n      <td>2.903844</td>\n      <td>Brok Sambor</td>\n      <td>piwo</td>\n      <td>lager</td>\n      <td>6.0</td>\n      <td>złoty</td>\n      <td>Van Pur S.A.</td>\n      <td>Polska</td>\n      <td>NaN</td>\n    </tr>\n    <tr>\n      <th>37</th>\n      <td>629f5bee10456c7cbc3af712</td>\n      <td>62f81be0eefbeabcae51113f</td>\n      <td>2.903844</td>\n      <td>Bojan Kiwi</td>\n      <td>piwo</td>\n      <td>lager</td>\n      <td>4.2</td>\n      <td>złoty</td>\n      <td>Browar Bojanowo</td>\n      <td>Polska</td>\n      <td>NaN</td>\n    </tr>\n    <tr>\n      <th>38</th>\n      <td>629f5bee10456c7cbc3af712</td>\n      <td>6326499a252267784d73cd77</td>\n      <td>2.903844</td>\n      <td>Miłosław Marcowe</td>\n      <td>piwo</td>\n      <td>lager</td>\n      <td>6.0</td>\n      <td>bursztynowy</td>\n      <td>Browar FORTUNA Sp. z o.o.</td>\n      <td>Polska</td>\n      <td>NaN</td>\n    </tr>\n    <tr>\n      <th>39</th>\n      <td>629f5bee10456c7cbc3af712</td>\n      <td>630faf68f66a3c75cefe0c90</td>\n      <td>2.903844</td>\n      <td>Braniewo Jasne Pełne</td>\n      <td>piwo</td>\n      <td>lager</td>\n      <td>5.8</td>\n      <td>bursztynowy</td>\n      <td>Browar Namysłów</td>\n      <td>Polska</td>\n      <td>NaN</td>\n    </tr>\n  </tbody>\n</table>\n</div>"
     },
     "metadata": {},
     "output_type": "display_data"
    }
   ],
   "source": [
    "# Quick test of the recommender\n",
    "\n",
    "lr_recommender = LinearRegressionRecommender()\n",
    "lr_recommender.fit(ml_df, items_df)\n",
    "recommendations = lr_recommender.recommend(pd.DataFrame(['629f5bee10456c7cbc3af712'], columns=['user_id']), items_df, 40)\n",
    "\n",
    "recommendations = pd.merge(recommendations, items_df, on='item_id', how='left')\n",
    "display(recommendations)"
   ],
   "metadata": {
    "collapsed": false,
    "pycharm": {
     "name": "#%%\n"
    }
   }
  },
  {
   "cell_type": "markdown",
   "source": [
    "### Train-test split test"
   ],
   "metadata": {
    "collapsed": false,
    "pycharm": {
     "name": "#%% md\n"
    }
   }
  },
  {
   "cell_type": "code",
   "execution_count": 213,
   "outputs": [
    {
     "name": "stdout",
     "output_type": "stream",
     "text": [
      "                    user_id                   item_id     score\n",
      "0  62aed4f0d20cdefa840bac0b  62b3564b568ac44060a46d68  2.443922\n",
      "                    user_id                   item_id     score\n",
      "0  629f5bee10456c7cbc3af712  62b4407ddd971448a4beeaeb  0.472055\n",
      "                    user_id                   item_id     score\n",
      "0  629f5bee10456c7cbc3af712  62b495c27c93cafdd7d0944f  1.875034\n",
      "                    user_id                   item_id         score\n",
      "0  62acd4d9ba0c8633231112d9  62e66c516ec5f8379ef62223  4.440892e-16\n",
      "                    user_id                   item_id         score\n",
      "0  62acd4d9ba0c8633231112d9  62e6896c4b51ceb70532f8b0  4.440892e-16\n",
      "                    user_id                   item_id     score\n",
      "0  62ab1fb3fd2e7fbd58da41d3  62f01bab19bf63dfdd05b3a9  1.875034\n",
      "                    user_id                   item_id     score\n",
      "0  62aed4f0d20cdefa840bac0b  6341e86f5594f5b0694aaf03  1.875034\n",
      "                    user_id                   item_id     score\n",
      "0  62acd4d9ba0c8633231112d9  62b56ad601bc976edbd13a70  1.875034\n"
     ]
    },
    {
     "name": "stderr",
     "output_type": "stream",
     "text": [
      "C:\\Users\\matrom1\\PycharmProjects\\AlkohoLove-recommender\\venv\\lib\\site-packages\\sklearn\\preprocessing\\_label.py:878: UserWarning: unknown class(es) ['piwo_světlý ležák'] will be ignored\n",
      "  warnings.warn(\n",
      "C:\\Users\\matrom1\\PycharmProjects\\AlkohoLove-recommender\\venv\\lib\\site-packages\\sklearn\\preprocessing\\_label.py:878: UserWarning: unknown class(es) ['piwo_milk stout'] will be ignored\n",
      "  warnings.warn(\n",
      "C:\\Users\\matrom1\\PycharmProjects\\AlkohoLove-recommender\\venv\\lib\\site-packages\\sklearn\\preprocessing\\_label.py:878: UserWarning: unknown class(es) ['piwo_sour ale'] will be ignored\n",
      "  warnings.warn(\n",
      "C:\\Users\\matrom1\\PycharmProjects\\AlkohoLove-recommender\\venv\\lib\\site-packages\\sklearn\\preprocessing\\_label.py:878: UserWarning: unknown class(es) ['piwo_india pale ale'] will be ignored\n",
      "  warnings.warn(\n"
     ]
    },
    {
     "name": "stdout",
     "output_type": "stream",
     "text": [
      "                    user_id                   item_id     score\n",
      "0  62aed4f0d20cdefa840bac0b  63530c56dbdcc7392d6f1d3f  1.875034\n",
      "                    user_id                   item_id     score\n",
      "0  62ab1fb3fd2e7fbd58da41d3  62d1bf360f95370144ad09e3  1.875034\n",
      "                    user_id                   item_id     score\n",
      "0  62acd4d9ba0c8633231112d9  62b494eb5aff740017de6858  1.875034\n",
      "                    user_id                   item_id     score\n",
      "0  62aed4f0d20cdefa840bac0b  6341ec675594f5b0694aaf04  1.875034\n",
      "                    user_id                   item_id     score\n",
      "0  629f5bee10456c7cbc3af712  62dd9a8a5ef6265fb6823107  1.875034\n",
      "                    user_id                   item_id     score\n",
      "0  629f5bee10456c7cbc3af712  62b4c0265aff740017de687a  1.875034\n",
      "                    user_id                   item_id     score\n",
      "0  62aed4f0d20cdefa840bac0b  62dd2e7ef12326d8b3e521de  1.875034\n",
      "                    user_id                   item_id     score\n",
      "0  629f5bee10456c7cbc3af712  6322409d86d1ba39137c5ccc  1.875034\n"
     ]
    },
    {
     "name": "stderr",
     "output_type": "stream",
     "text": [
      "C:\\Users\\matrom1\\PycharmProjects\\AlkohoLove-recommender\\venv\\lib\\site-packages\\sklearn\\preprocessing\\_label.py:878: UserWarning: unknown class(es) ['piwo_ciemny lager'] will be ignored\n",
      "  warnings.warn(\n",
      "C:\\Users\\matrom1\\PycharmProjects\\AlkohoLove-recommender\\venv\\lib\\site-packages\\sklearn\\preprocessing\\_label.py:878: UserWarning: unknown class(es) ['wino_słodkie'] will be ignored\n",
      "  warnings.warn(\n",
      "C:\\Users\\matrom1\\PycharmProjects\\AlkohoLove-recommender\\venv\\lib\\site-packages\\sklearn\\preprocessing\\_label.py:878: UserWarning: unknown class(es) ['piwo_black ipa'] will be ignored\n",
      "  warnings.warn(\n",
      "C:\\Users\\matrom1\\PycharmProjects\\AlkohoLove-recommender\\venv\\lib\\site-packages\\sklearn\\preprocessing\\_label.py:878: UserWarning: unknown class(es) ['tequila_czysta'] will be ignored\n",
      "  warnings.warn(\n",
      "C:\\Users\\matrom1\\PycharmProjects\\AlkohoLove-recommender\\venv\\lib\\site-packages\\sklearn\\preprocessing\\_label.py:878: UserWarning: unknown class(es) ['piwo_fruit & honey ale'] will be ignored\n",
      "  warnings.warn(\n",
      "C:\\Users\\matrom1\\PycharmProjects\\AlkohoLove-recommender\\venv\\lib\\site-packages\\sklearn\\preprocessing\\_label.py:878: UserWarning: unknown class(es) ['piwo_specialty beer'] will be ignored\n",
      "  warnings.warn(\n",
      "C:\\Users\\matrom1\\PycharmProjects\\AlkohoLove-recommender\\evaluation_and_testing_helpers\\evaluation_measures.py:15: RuntimeWarning: divide by zero encountered in divide\n",
      "  return 1 / len(r_pred) * np.sum(np.abs(r_pred - r_real) / np.abs(r_real))\n"
     ]
    },
    {
     "data": {
      "text/plain": "                   Recommender      RMSE  MRE       TRE\n0  LinearRegressionRecommender  1.820904  inf  1.272473",
      "text/html": "<div>\n<style scoped>\n    .dataframe tbody tr th:only-of-type {\n        vertical-align: middle;\n    }\n\n    .dataframe tbody tr th {\n        vertical-align: top;\n    }\n\n    .dataframe thead th {\n        text-align: right;\n    }\n</style>\n<table border=\"1\" class=\"dataframe\">\n  <thead>\n    <tr style=\"text-align: right;\">\n      <th></th>\n      <th>Recommender</th>\n      <th>RMSE</th>\n      <th>MRE</th>\n      <th>TRE</th>\n    </tr>\n  </thead>\n  <tbody>\n    <tr>\n      <th>0</th>\n      <td>LinearRegressionRecommender</td>\n      <td>1.820904</td>\n      <td>inf</td>\n      <td>1.272473</td>\n    </tr>\n  </tbody>\n</table>\n</div>"
     },
     "metadata": {},
     "output_type": "display_data"
    },
    {
     "name": "stdout",
     "output_type": "stream",
     "text": [
      "Total evaluation time: 0.5731775760650635\n"
     ]
    }
   ],
   "source": [
    "lr_recommender = LinearRegressionRecommender()\n",
    "\n",
    "t0 = time.time()\n",
    "seed = 6789\n",
    "\n",
    "results = [\n",
    "    ['LinearRegressionRecommender'] + list(\n",
    "        evaluate_train_test_split_explicit(lr_recommender, ml_df, items_df, seed=seed))\n",
    "]\n",
    "\n",
    "results = pd.DataFrame(\n",
    "    results,\n",
    "    columns=['Recommender', 'RMSE', 'MRE', 'TRE']\n",
    ")\n",
    "\n",
    "display(results)\n",
    "\n",
    "print('Total evaluation time: {}'.format(time.time() - t0))"
   ],
   "metadata": {
    "collapsed": false,
    "pycharm": {
     "name": "#%%\n"
    }
   }
  },
  {
   "cell_type": "code",
   "execution_count": 240,
   "outputs": [
    {
     "data": {
      "text/plain": "                     user_id                   item_id  rating  search  \\\n0   629f5bee10456c7cbc3af712  62b4c0265aff740017de687a     3.0     0.0   \n1   629f5bee10456c7cbc3af712  62b5871901bc976edbd13a94     3.0     1.0   \n6   629f5bee10456c7cbc3af712  62b4391cd7995d801996d75f     0.0     1.0   \n13  629f5bee10456c7cbc3af712  62b4407ddd971448a4beeaeb     3.0     1.0   \n26  629f5bee10456c7cbc3af712  62ab638288a7811f65839221     0.0     1.0   \n31  629f5bee10456c7cbc3af712  6322409d86d1ba39137c5ccc     3.0     1.0   \n39  629f5bee10456c7cbc3af712  62dd3383d1f50b95cb0c8f33     0.0     1.0   \n42  629f5bee10456c7cbc3af712  62d8515b7e5961377764ed3a     0.0     1.0   \n43  629f5bee10456c7cbc3af712  62f7f53dc48b41f538750d14     0.0     1.0   \n44  629f5bee10456c7cbc3af712  62b495c27c93cafdd7d0944f     0.0     1.0   \n45  629f5bee10456c7cbc3af712  62ab28e88a757f60cc3f31db     0.0     1.0   \n70  629f5bee10456c7cbc3af712  62dd9a8a5ef6265fb6823107     0.0     0.0   \n\n    favourite  wishlist                             name     kind  \\\n0         0.0       0.0            SIERRA Silver Tequila  tequila   \n1         0.0       0.0          Cydr lubelski klasyczny     cydr   \n6         1.0       1.0                          Jameson   whisky   \n13        1.0       0.0  Jameson Caskmates Stout Edition   whisky   \n26        1.0       0.0             Krupnik Słony Karmel   likier   \n31        1.0       0.0           Fortuna Miodowe Ciemne     piwo   \n39        0.0       0.0                       Irish Beer     piwo   \n42        0.0       0.0                             Żubr     piwo   \n43        0.0       0.0                    Sadowski Cydr     cydr   \n44        0.0       0.0                 Glenfiddich 12yo   whisky   \n45        0.0       1.0        Biały Bocian Słony Karmel   likier   \n70        0.0       1.0        Podróże Kormorana Witbier     piwo   \n\n              type  alcohol_by_volume          color  \\\n0           czysta               38.0  przezroczysty   \n1         musujący                4.5  przezroczysty   \n6          blended               40.0       bursztyn   \n13         blended               40.0         karmel   \n26         mleczny               16.0      karmelowy   \n31  specialty beer                5.6      karmelowy   \n39           lager                6.5         ciemne   \n42      Pale Lager                6.0          jasne   \n43        musujący                4.5            NaN   \n44     single malt               40.0       bursztyn   \n45         mleczny               16.0      karmelowy   \n70         witbier                4.6          jasne   \n\n                      manufacturer   country               region  \n0   Destileria Sierra S.A. de C.V.    Meksyk                  NaN  \n1                       Ambra S.A.    Polska        Lubelszczyzna  \n6                 Irish Distillers  Irlandia                 Cork  \n13                Irish Distillers  Irlandia                 Cork  \n26                        Sobieski    Polska                  NaN  \n31       Browar FORTUNA Sp. z o.o.    Polska                  NaN  \n39                 Browar Kormoran    Polska  Warmińsko-mazurskie  \n42             Kampania Piwowarska    Polska                  NaN  \n43                   Bartex Bartol    Polska                  NaN  \n44          William Grant and Sons   Szkocja                Moray  \n45                          Polmos    Polska        Bielsko-Biała  \n70                 Browar Kormoran    Polska  Warmińsko-mazurskie  ",
      "text/html": "<div>\n<style scoped>\n    .dataframe tbody tr th:only-of-type {\n        vertical-align: middle;\n    }\n\n    .dataframe tbody tr th {\n        vertical-align: top;\n    }\n\n    .dataframe thead th {\n        text-align: right;\n    }\n</style>\n<table border=\"1\" class=\"dataframe\">\n  <thead>\n    <tr style=\"text-align: right;\">\n      <th></th>\n      <th>user_id</th>\n      <th>item_id</th>\n      <th>rating</th>\n      <th>search</th>\n      <th>favourite</th>\n      <th>wishlist</th>\n      <th>name</th>\n      <th>kind</th>\n      <th>type</th>\n      <th>alcohol_by_volume</th>\n      <th>color</th>\n      <th>manufacturer</th>\n      <th>country</th>\n      <th>region</th>\n    </tr>\n  </thead>\n  <tbody>\n    <tr>\n      <th>0</th>\n      <td>629f5bee10456c7cbc3af712</td>\n      <td>62b4c0265aff740017de687a</td>\n      <td>3.0</td>\n      <td>0.0</td>\n      <td>0.0</td>\n      <td>0.0</td>\n      <td>SIERRA Silver Tequila</td>\n      <td>tequila</td>\n      <td>czysta</td>\n      <td>38.0</td>\n      <td>przezroczysty</td>\n      <td>Destileria Sierra S.A. de C.V.</td>\n      <td>Meksyk</td>\n      <td>NaN</td>\n    </tr>\n    <tr>\n      <th>1</th>\n      <td>629f5bee10456c7cbc3af712</td>\n      <td>62b5871901bc976edbd13a94</td>\n      <td>3.0</td>\n      <td>1.0</td>\n      <td>0.0</td>\n      <td>0.0</td>\n      <td>Cydr lubelski klasyczny</td>\n      <td>cydr</td>\n      <td>musujący</td>\n      <td>4.5</td>\n      <td>przezroczysty</td>\n      <td>Ambra S.A.</td>\n      <td>Polska</td>\n      <td>Lubelszczyzna</td>\n    </tr>\n    <tr>\n      <th>6</th>\n      <td>629f5bee10456c7cbc3af712</td>\n      <td>62b4391cd7995d801996d75f</td>\n      <td>0.0</td>\n      <td>1.0</td>\n      <td>1.0</td>\n      <td>1.0</td>\n      <td>Jameson</td>\n      <td>whisky</td>\n      <td>blended</td>\n      <td>40.0</td>\n      <td>bursztyn</td>\n      <td>Irish Distillers</td>\n      <td>Irlandia</td>\n      <td>Cork</td>\n    </tr>\n    <tr>\n      <th>13</th>\n      <td>629f5bee10456c7cbc3af712</td>\n      <td>62b4407ddd971448a4beeaeb</td>\n      <td>3.0</td>\n      <td>1.0</td>\n      <td>1.0</td>\n      <td>0.0</td>\n      <td>Jameson Caskmates Stout Edition</td>\n      <td>whisky</td>\n      <td>blended</td>\n      <td>40.0</td>\n      <td>karmel</td>\n      <td>Irish Distillers</td>\n      <td>Irlandia</td>\n      <td>Cork</td>\n    </tr>\n    <tr>\n      <th>26</th>\n      <td>629f5bee10456c7cbc3af712</td>\n      <td>62ab638288a7811f65839221</td>\n      <td>0.0</td>\n      <td>1.0</td>\n      <td>1.0</td>\n      <td>0.0</td>\n      <td>Krupnik Słony Karmel</td>\n      <td>likier</td>\n      <td>mleczny</td>\n      <td>16.0</td>\n      <td>karmelowy</td>\n      <td>Sobieski</td>\n      <td>Polska</td>\n      <td>NaN</td>\n    </tr>\n    <tr>\n      <th>31</th>\n      <td>629f5bee10456c7cbc3af712</td>\n      <td>6322409d86d1ba39137c5ccc</td>\n      <td>3.0</td>\n      <td>1.0</td>\n      <td>1.0</td>\n      <td>0.0</td>\n      <td>Fortuna Miodowe Ciemne</td>\n      <td>piwo</td>\n      <td>specialty beer</td>\n      <td>5.6</td>\n      <td>karmelowy</td>\n      <td>Browar FORTUNA Sp. z o.o.</td>\n      <td>Polska</td>\n      <td>NaN</td>\n    </tr>\n    <tr>\n      <th>39</th>\n      <td>629f5bee10456c7cbc3af712</td>\n      <td>62dd3383d1f50b95cb0c8f33</td>\n      <td>0.0</td>\n      <td>1.0</td>\n      <td>0.0</td>\n      <td>0.0</td>\n      <td>Irish Beer</td>\n      <td>piwo</td>\n      <td>lager</td>\n      <td>6.5</td>\n      <td>ciemne</td>\n      <td>Browar Kormoran</td>\n      <td>Polska</td>\n      <td>Warmińsko-mazurskie</td>\n    </tr>\n    <tr>\n      <th>42</th>\n      <td>629f5bee10456c7cbc3af712</td>\n      <td>62d8515b7e5961377764ed3a</td>\n      <td>0.0</td>\n      <td>1.0</td>\n      <td>0.0</td>\n      <td>0.0</td>\n      <td>Żubr</td>\n      <td>piwo</td>\n      <td>Pale Lager</td>\n      <td>6.0</td>\n      <td>jasne</td>\n      <td>Kampania Piwowarska</td>\n      <td>Polska</td>\n      <td>NaN</td>\n    </tr>\n    <tr>\n      <th>43</th>\n      <td>629f5bee10456c7cbc3af712</td>\n      <td>62f7f53dc48b41f538750d14</td>\n      <td>0.0</td>\n      <td>1.0</td>\n      <td>0.0</td>\n      <td>0.0</td>\n      <td>Sadowski Cydr</td>\n      <td>cydr</td>\n      <td>musujący</td>\n      <td>4.5</td>\n      <td>NaN</td>\n      <td>Bartex Bartol</td>\n      <td>Polska</td>\n      <td>NaN</td>\n    </tr>\n    <tr>\n      <th>44</th>\n      <td>629f5bee10456c7cbc3af712</td>\n      <td>62b495c27c93cafdd7d0944f</td>\n      <td>0.0</td>\n      <td>1.0</td>\n      <td>0.0</td>\n      <td>0.0</td>\n      <td>Glenfiddich 12yo</td>\n      <td>whisky</td>\n      <td>single malt</td>\n      <td>40.0</td>\n      <td>bursztyn</td>\n      <td>William Grant and Sons</td>\n      <td>Szkocja</td>\n      <td>Moray</td>\n    </tr>\n    <tr>\n      <th>45</th>\n      <td>629f5bee10456c7cbc3af712</td>\n      <td>62ab28e88a757f60cc3f31db</td>\n      <td>0.0</td>\n      <td>1.0</td>\n      <td>0.0</td>\n      <td>1.0</td>\n      <td>Biały Bocian Słony Karmel</td>\n      <td>likier</td>\n      <td>mleczny</td>\n      <td>16.0</td>\n      <td>karmelowy</td>\n      <td>Polmos</td>\n      <td>Polska</td>\n      <td>Bielsko-Biała</td>\n    </tr>\n    <tr>\n      <th>70</th>\n      <td>629f5bee10456c7cbc3af712</td>\n      <td>62dd9a8a5ef6265fb6823107</td>\n      <td>0.0</td>\n      <td>0.0</td>\n      <td>0.0</td>\n      <td>1.0</td>\n      <td>Podróże Kormorana Witbier</td>\n      <td>piwo</td>\n      <td>witbier</td>\n      <td>4.6</td>\n      <td>jasne</td>\n      <td>Browar Kormoran</td>\n      <td>Polska</td>\n      <td>Warmińsko-mazurskie</td>\n    </tr>\n  </tbody>\n</table>\n</div>"
     },
     "metadata": {},
     "output_type": "display_data"
    }
   ],
   "source": [
    "display(ml_df[ml_df['user_id'] == '629f5bee10456c7cbc3af712'])"
   ],
   "metadata": {
    "collapsed": false,
    "pycharm": {
     "name": "#%%\n"
    }
   }
  },
  {
   "cell_type": "code",
   "execution_count": null,
   "outputs": [],
   "source": [],
   "metadata": {
    "collapsed": false,
    "pycharm": {
     "name": "#%%\n"
    }
   }
  }
 ],
 "metadata": {
  "kernelspec": {
   "display_name": "Python 3 (ipykernel)",
   "language": "python",
   "name": "python3"
  },
  "language_info": {
   "codemirror_mode": {
    "name": "ipython",
    "version": 3
   },
   "file_extension": ".py",
   "mimetype": "text/x-python",
   "name": "python",
   "nbconvert_exporter": "python",
   "pygments_lexer": "ipython3",
   "version": "3.10.4"
  }
 },
 "nbformat": 4,
 "nbformat_minor": 5
}